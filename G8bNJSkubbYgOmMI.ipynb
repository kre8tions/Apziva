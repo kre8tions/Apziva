{
 "cells": [
  {
   "cell_type": "markdown",
   "id": "a1af8f38",
   "metadata": {
    "id": "a1af8f38"
   },
   "source": [
    "## Happy Customers\n",
    "\n",
    "### Context: \n",
    "We are one of the fastest growing startups in the logistics and delivery domain. We work with several partners and make on-demand delivery to our customers. During the COVID-19 pandemic, we are facing several different challenges and everyday we are trying to address these challenges.\n",
    "\n",
    "We thrive on making our customers happy. As a growing startup, with a global expansion strategy we know that we need to make our customers happy and the only way to do that is to measure how happy each customer is. If we can predict what makes our customers happy or unhappy, we can then take necessary actions.\n",
    "\n",
    "Getting feedback from customers is not easy either, but we do our best to get constant feedback from our customers. This is a crucial function to improve our operations across all levels.\n",
    "\n",
    "We recently did a survey to a select customer cohort. You are presented with a subset of this data. We will be using the remaining data as a private test set.\n",
    "\n",
    "### Objective : \n",
    "\n",
    "* To identify the different factors that makes a customer unhappy\n",
    "* To make a model to predict if customer is happy or not\n",
    "* To identify features that are more important for predicting customer's happiness\n",
    "* To reach 73% accuracy score or above\n",
    "\n",
    "\n",
    "### Dataset :\n",
    "The data contains demographic details, work-related metrics and attrition flag.\n",
    "\n",
    "* **Y**  - Targe attribute (Y) with values indicating 0 (unhappy) and 1 (happy) customers\n",
    "* **X1** - My order was delivered on time\n",
    "* **X2** - Contents of my order was as expected\n",
    "* **X3** - I ordered everything I wanted\n",
    "* **X4** - I paid a good price for my order\n",
    "* **X5** - I am satisfied with my courier\n",
    "* **X6** - The app makes ordering easy for me"
   ]
  },
  {
   "cell_type": "markdown",
   "id": "d6700f10",
   "metadata": {
    "id": "d6700f10"
   },
   "source": [
    "### Import the necessary libraries"
   ]
  },
  {
   "cell_type": "code",
   "execution_count": 1,
   "id": "d60f33c8",
   "metadata": {
    "id": "d60f33c8"
   },
   "outputs": [],
   "source": [
    "import pandas as pd\n",
    "import numpy as np\n",
    "import matplotlib.pyplot as plt\n",
    "import seaborn as sns\n",
    "\n",
    "#to scale the data using z-score \n",
    "from sklearn.preprocessing import StandardScaler\n",
    "from sklearn.model_selection import train_test_split\n",
    "\n",
    "#algorithms to use\n",
    "from sklearn.discriminant_analysis import LinearDiscriminantAnalysis\n",
    "from sklearn.discriminant_analysis import QuadraticDiscriminantAnalysis\n",
    "from sklearn.linear_model import LogisticRegression\n",
    "from sklearn.neighbors import KNeighborsClassifier\n",
    "from xgboost import XGBClassifier\n",
    "from sklearn.svm import SVC\n",
    "from sklearn.ensemble import RandomForestClassifier\n",
    "from sklearn.tree import DecisionTreeClassifier\n",
    "from sklearn import tree\n",
    "\n",
    "#Metrics to evaluate the model\n",
    "from sklearn import metrics\n",
    "from sklearn.metrics import confusion_matrix, classification_report, precision_recall_curve,recall_score\n",
    "\n",
    "#for tuning the model\n",
    "from sklearn.model_selection import GridSearchCV\n",
    "\n",
    "#to ignore warnings\n",
    "import warnings\n",
    "warnings.filterwarnings(\"ignore\")"
   ]
  },
  {
   "cell_type": "markdown",
   "id": "91a960cf",
   "metadata": {
    "id": "91a960cf"
   },
   "source": [
    "### Read the dataset and do initial exploration"
   ]
  },
  {
   "cell_type": "code",
   "execution_count": 2,
   "id": "ff29bb95",
   "metadata": {
    "id": "ff29bb95"
   },
   "outputs": [],
   "source": [
    "#reading the dataset\n",
    "df = pd.read_csv('ACME-HappinessSurvey2020.csv')"
   ]
  },
  {
   "cell_type": "code",
   "execution_count": 3,
   "id": "6cc2e7f0",
   "metadata": {
    "id": "6cc2e7f0",
    "outputId": "6d9d4fe1-754b-461c-a7b7-ae862ad32bcf",
    "scrolled": true
   },
   "outputs": [
    {
     "data": {
      "text/html": [
       "<div>\n",
       "<style scoped>\n",
       "    .dataframe tbody tr th:only-of-type {\n",
       "        vertical-align: middle;\n",
       "    }\n",
       "\n",
       "    .dataframe tbody tr th {\n",
       "        vertical-align: top;\n",
       "    }\n",
       "\n",
       "    .dataframe thead th {\n",
       "        text-align: right;\n",
       "    }\n",
       "</style>\n",
       "<table border=\"1\" class=\"dataframe\">\n",
       "  <thead>\n",
       "    <tr style=\"text-align: right;\">\n",
       "      <th></th>\n",
       "      <th>Y</th>\n",
       "      <th>X1</th>\n",
       "      <th>X2</th>\n",
       "      <th>X3</th>\n",
       "      <th>X4</th>\n",
       "      <th>X5</th>\n",
       "      <th>X6</th>\n",
       "    </tr>\n",
       "  </thead>\n",
       "  <tbody>\n",
       "    <tr>\n",
       "      <th>0</th>\n",
       "      <td>0</td>\n",
       "      <td>3</td>\n",
       "      <td>3</td>\n",
       "      <td>3</td>\n",
       "      <td>4</td>\n",
       "      <td>2</td>\n",
       "      <td>4</td>\n",
       "    </tr>\n",
       "    <tr>\n",
       "      <th>1</th>\n",
       "      <td>0</td>\n",
       "      <td>3</td>\n",
       "      <td>2</td>\n",
       "      <td>3</td>\n",
       "      <td>5</td>\n",
       "      <td>4</td>\n",
       "      <td>3</td>\n",
       "    </tr>\n",
       "    <tr>\n",
       "      <th>2</th>\n",
       "      <td>1</td>\n",
       "      <td>5</td>\n",
       "      <td>3</td>\n",
       "      <td>3</td>\n",
       "      <td>3</td>\n",
       "      <td>3</td>\n",
       "      <td>5</td>\n",
       "    </tr>\n",
       "    <tr>\n",
       "      <th>3</th>\n",
       "      <td>0</td>\n",
       "      <td>5</td>\n",
       "      <td>4</td>\n",
       "      <td>3</td>\n",
       "      <td>3</td>\n",
       "      <td>3</td>\n",
       "      <td>5</td>\n",
       "    </tr>\n",
       "    <tr>\n",
       "      <th>4</th>\n",
       "      <td>0</td>\n",
       "      <td>5</td>\n",
       "      <td>4</td>\n",
       "      <td>3</td>\n",
       "      <td>3</td>\n",
       "      <td>3</td>\n",
       "      <td>5</td>\n",
       "    </tr>\n",
       "  </tbody>\n",
       "</table>\n",
       "</div>"
      ],
      "text/plain": [
       "   Y  X1  X2  X3  X4  X5  X6\n",
       "0  0   3   3   3   4   2   4\n",
       "1  0   3   2   3   5   4   3\n",
       "2  1   5   3   3   3   3   5\n",
       "3  0   5   4   3   3   3   5\n",
       "4  0   5   4   3   3   3   5"
      ]
     },
     "execution_count": 3,
     "metadata": {},
     "output_type": "execute_result"
    }
   ],
   "source": [
    "df.head()"
   ]
  },
  {
   "cell_type": "code",
   "execution_count": 4,
   "id": "e366b601",
   "metadata": {
    "id": "e366b601",
    "outputId": "7aeb37b3-a85d-49a0-ad18-3306a7fd84cb",
    "scrolled": true
   },
   "outputs": [
    {
     "name": "stdout",
     "output_type": "stream",
     "text": [
      "<class 'pandas.core.frame.DataFrame'>\n",
      "RangeIndex: 126 entries, 0 to 125\n",
      "Data columns (total 7 columns):\n",
      " #   Column  Non-Null Count  Dtype\n",
      "---  ------  --------------  -----\n",
      " 0   Y       126 non-null    int64\n",
      " 1   X1      126 non-null    int64\n",
      " 2   X2      126 non-null    int64\n",
      " 3   X3      126 non-null    int64\n",
      " 4   X4      126 non-null    int64\n",
      " 5   X5      126 non-null    int64\n",
      " 6   X6      126 non-null    int64\n",
      "dtypes: int64(7)\n",
      "memory usage: 7.0 KB\n"
     ]
    }
   ],
   "source": [
    "df.info()"
   ]
  },
  {
   "cell_type": "markdown",
   "id": "f1f5de53",
   "metadata": {
    "id": "f1f5de53"
   },
   "source": [
    "**Observation:**\n",
    "- There are 126 observations and 7 columns.\n",
    "- There are no missing values in the data."
   ]
  },
  {
   "cell_type": "markdown",
   "id": "a79b35fa",
   "metadata": {
    "id": "7c1a436f"
   },
   "source": [
    "### Let's rename the columns for readibility"
   ]
  },
  {
   "cell_type": "code",
   "execution_count": 5,
   "id": "29653709",
   "metadata": {},
   "outputs": [],
   "source": [
    "# Renaming the columns for readibility\n",
    "df.columns = ['Target','Delivered_on_Time', 'Contents_as_expected', \n",
    "              'Found_everything', 'Good_Price', 'Satisfied_with_courier', 'App_ease']"
   ]
  },
  {
   "cell_type": "markdown",
   "id": "7c1a436f",
   "metadata": {
    "id": "7c1a436f"
   },
   "source": [
    "### Checking column statistics"
   ]
  },
  {
   "cell_type": "code",
   "execution_count": 6,
   "id": "fb41a488",
   "metadata": {
    "id": "fb41a488",
    "outputId": "32820b4b-fad7-48d1-a0d7-b045a8cf3bbc",
    "scrolled": false
   },
   "outputs": [
    {
     "data": {
      "text/html": [
       "<div>\n",
       "<style scoped>\n",
       "    .dataframe tbody tr th:only-of-type {\n",
       "        vertical-align: middle;\n",
       "    }\n",
       "\n",
       "    .dataframe tbody tr th {\n",
       "        vertical-align: top;\n",
       "    }\n",
       "\n",
       "    .dataframe thead th {\n",
       "        text-align: right;\n",
       "    }\n",
       "</style>\n",
       "<table border=\"1\" class=\"dataframe\">\n",
       "  <thead>\n",
       "    <tr style=\"text-align: right;\">\n",
       "      <th></th>\n",
       "      <th>count</th>\n",
       "      <th>mean</th>\n",
       "      <th>std</th>\n",
       "      <th>min</th>\n",
       "      <th>25%</th>\n",
       "      <th>50%</th>\n",
       "      <th>75%</th>\n",
       "      <th>max</th>\n",
       "    </tr>\n",
       "  </thead>\n",
       "  <tbody>\n",
       "    <tr>\n",
       "      <th>Target</th>\n",
       "      <td>126.0</td>\n",
       "      <td>0.547619</td>\n",
       "      <td>0.499714</td>\n",
       "      <td>0.0</td>\n",
       "      <td>0.0</td>\n",
       "      <td>1.0</td>\n",
       "      <td>1.0</td>\n",
       "      <td>1.0</td>\n",
       "    </tr>\n",
       "    <tr>\n",
       "      <th>Delivered_on_Time</th>\n",
       "      <td>126.0</td>\n",
       "      <td>4.333333</td>\n",
       "      <td>0.800000</td>\n",
       "      <td>1.0</td>\n",
       "      <td>4.0</td>\n",
       "      <td>5.0</td>\n",
       "      <td>5.0</td>\n",
       "      <td>5.0</td>\n",
       "    </tr>\n",
       "    <tr>\n",
       "      <th>Contents_as_expected</th>\n",
       "      <td>126.0</td>\n",
       "      <td>2.531746</td>\n",
       "      <td>1.114892</td>\n",
       "      <td>1.0</td>\n",
       "      <td>2.0</td>\n",
       "      <td>3.0</td>\n",
       "      <td>3.0</td>\n",
       "      <td>5.0</td>\n",
       "    </tr>\n",
       "    <tr>\n",
       "      <th>Found_everything</th>\n",
       "      <td>126.0</td>\n",
       "      <td>3.309524</td>\n",
       "      <td>1.023440</td>\n",
       "      <td>1.0</td>\n",
       "      <td>3.0</td>\n",
       "      <td>3.0</td>\n",
       "      <td>4.0</td>\n",
       "      <td>5.0</td>\n",
       "    </tr>\n",
       "    <tr>\n",
       "      <th>Good_Price</th>\n",
       "      <td>126.0</td>\n",
       "      <td>3.746032</td>\n",
       "      <td>0.875776</td>\n",
       "      <td>1.0</td>\n",
       "      <td>3.0</td>\n",
       "      <td>4.0</td>\n",
       "      <td>4.0</td>\n",
       "      <td>5.0</td>\n",
       "    </tr>\n",
       "    <tr>\n",
       "      <th>Satisfied_with_courier</th>\n",
       "      <td>126.0</td>\n",
       "      <td>3.650794</td>\n",
       "      <td>1.147641</td>\n",
       "      <td>1.0</td>\n",
       "      <td>3.0</td>\n",
       "      <td>4.0</td>\n",
       "      <td>4.0</td>\n",
       "      <td>5.0</td>\n",
       "    </tr>\n",
       "    <tr>\n",
       "      <th>App_ease</th>\n",
       "      <td>126.0</td>\n",
       "      <td>4.253968</td>\n",
       "      <td>0.809311</td>\n",
       "      <td>1.0</td>\n",
       "      <td>4.0</td>\n",
       "      <td>4.0</td>\n",
       "      <td>5.0</td>\n",
       "      <td>5.0</td>\n",
       "    </tr>\n",
       "  </tbody>\n",
       "</table>\n",
       "</div>"
      ],
      "text/plain": [
       "                        count      mean       std  min  25%  50%  75%  max\n",
       "Target                  126.0  0.547619  0.499714  0.0  0.0  1.0  1.0  1.0\n",
       "Delivered_on_Time       126.0  4.333333  0.800000  1.0  4.0  5.0  5.0  5.0\n",
       "Contents_as_expected    126.0  2.531746  1.114892  1.0  2.0  3.0  3.0  5.0\n",
       "Found_everything        126.0  3.309524  1.023440  1.0  3.0  3.0  4.0  5.0\n",
       "Good_Price              126.0  3.746032  0.875776  1.0  3.0  4.0  4.0  5.0\n",
       "Satisfied_with_courier  126.0  3.650794  1.147641  1.0  3.0  4.0  4.0  5.0\n",
       "App_ease                126.0  4.253968  0.809311  1.0  4.0  4.0  5.0  5.0"
      ]
     },
     "execution_count": 6,
     "metadata": {},
     "output_type": "execute_result"
    }
   ],
   "source": [
    "#Checking summary statistics\n",
    "df.describe().T"
   ]
  },
  {
   "cell_type": "markdown",
   "id": "3fa3d39e",
   "metadata": {
    "id": "3fa3d39e"
   },
   "source": [
    "- **Average score for delivery on Time** is **4.33** out of 5.  This isn't bad.\n",
    "- **Similarly Ease of ordering** with the app is around **4.25**.  Both these items are not bad. \n",
    "- **Content as expected** comes in low at **2.5** average. Wonder what happened here and if it's a big factor in customer disatisfaction.  \n",
    "- **Satisfied with courier** comes in at a **3.65**.\n",
    "- **Found everyting also comes in** close at about **3.3**."
   ]
  },
  {
   "cell_type": "markdown",
   "id": "3283a6be",
   "metadata": {
    "id": "3283a6be"
   },
   "source": [
    "Let's explore these variables in some more depth by observing their distributions"
   ]
  },
  {
   "cell_type": "code",
   "execution_count": 7,
   "id": "6b1e0479",
   "metadata": {
    "id": "6b1e0479",
    "outputId": "ff5338bb-e8e4-4b73-f87b-3ef683ce0059",
    "scrolled": false
   },
   "outputs": [
    {
     "data": {
      "image/png": "[encoded data removed]",
      "text/plain": [
       "<Figure size 1008x1008 with 6 Axes>"
      ]
     },
     "metadata": {
      "needs_background": "light"
     },
     "output_type": "display_data"
    }
   ],
   "source": [
    "#creating histograms\n",
    "df.loc[:, df.columns != 'Target'].hist(figsize=(14,14)) \n",
    "plt.show()"
   ]
  },
  {
   "cell_type": "markdown",
   "id": "ec26cfc8",
   "metadata": {
    "id": "ec26cfc8"
   },
   "source": [
    "**Observations:**\n",
    "\n",
    "- **Delivered on Time** and **App ease** tended towards the higher values of **4's and 5's** with very few low scores.\n",
    "\n",
    "- **Contents as expected** and **Found everything** is a little more spotty.  The scores are almost normally distributed **around 3**. \n",
    "\n",
    "- **Satisfied with courier** is rated most at **4's but has some scores at 3, 2 and 1's**, indicating not uniform satisfaction here.  \n",
    "\n",
    "- **Price** does not seem to be a huge factor, **mostly in the upper numbers** but we'll see if that's a factor is customer satisfaction."
   ]
  },
  {
   "cell_type": "markdown",
   "id": "bdb2961d",
   "metadata": {
    "id": "bdb2961d"
   },
   "source": [
    "### Bivariate analysis"
   ]
  },
  {
   "cell_type": "markdown",
   "id": "643dd47d",
   "metadata": {
    "id": "643dd47d"
   },
   "source": [
    "**Let's now check how does customer satisfaction rate is related with other variables**"
   ]
  },
  {
   "cell_type": "code",
   "execution_count": 8,
   "id": "c587e260",
   "metadata": {},
   "outputs": [],
   "source": [
    "cols = df.columns"
   ]
  },
  {
   "cell_type": "code",
   "execution_count": 9,
   "id": "796c2b07",
   "metadata": {
    "id": "796c2b07",
    "outputId": "1ace5a61-5f02-4c1f-87a4-f50e1688354a",
    "scrolled": false
   },
   "outputs": [
    {
     "data": {
      "image/png": "[encoded data removed]",
      "text/plain": [
       "<Figure size 576x288 with 1 Axes>"
      ]
     },
     "metadata": {
      "needs_background": "light"
     },
     "output_type": "display_data"
    },
    {
     "data": {
      "image/png": "[encoded data removed]",
      "text/plain": [
       "<Figure size 576x288 with 1 Axes>"
      ]
     },
     "metadata": {
      "needs_background": "light"
     },
     "output_type": "display_data"
    },
    {
     "data": {
      "image/png": "[encoded data removed]",
      "text/plain": [
       "<Figure size 576x288 with 1 Axes>"
      ]
     },
     "metadata": {
      "needs_background": "light"
     },
     "output_type": "display_data"
    },
    {
     "data": {
      "image/png": "[encoded data removed]",
      "text/plain": [
       "<Figure size 576x288 with 1 Axes>"
      ]
     },
     "metadata": {
      "needs_background": "light"
     },
     "output_type": "display_data"
    },
    {
     "data": {
      "image/png": "[encoded data removed]",
      "text/plain": [
       "<Figure size 576x288 with 1 Axes>"
      ]
     },
     "metadata": {
      "needs_background": "light"
     },
     "output_type": "display_data"
    },
    {
     "data": {
      "image/png": "[encoded data removed]",
      "text/plain": [
       "<Figure size 576x288 with 1 Axes>"
      ]
     },
     "metadata": {
      "needs_background": "light"
     },
     "output_type": "display_data"
    }
   ],
   "source": [
    "for i in cols:\n",
    "    if i!='Target':\n",
    "        (pd.crosstab(df[i],df['Target'],normalize='index')*100).plot(kind='bar',figsize=(8,4),stacked=True)\n",
    "        plt.ylabel('Percentage Happy %')"
   ]
  },
  {
   "cell_type": "markdown",
   "id": "3f91face",
   "metadata": {
    "id": "3f91face"
   },
   "source": [
    "**Observations:**\n",
    "    \n",
    "- **Delivered on time** and **Satisfaction with courior** seems to have a bigger affect on customer satisfaction, see that the higher rate of unhappiness as the score get's lower.\n",
    "- **Pricing** and **Ease of app use** seems to have some factor on customer satisfaction but not as strong. \n",
    "- **Found everything** and **Content as expected** has uniform distribution across the scores so it does't seem to be a huge factor in whether customers are satisfied or not. \n"
   ]
  },
  {
   "cell_type": "markdown",
   "id": "df253009",
   "metadata": {
    "id": "df253009"
   },
   "source": [
    "### Let's check the relationship between different numerical variables"
   ]
  },
  {
   "cell_type": "code",
   "execution_count": 10,
   "id": "794957ed",
   "metadata": {},
   "outputs": [],
   "source": [
    "# Creating a mask to mask off top half of correlation heatmap\n",
    "mask = np.zeros_like(df.corr())\n",
    "triangle_indices = np.triu_indices_from(mask)\n",
    "mask[triangle_indices] = True"
   ]
  },
  {
   "cell_type": "code",
   "execution_count": 11,
   "id": "5da1e8ed",
   "metadata": {
    "id": "5da1e8ed",
    "outputId": "ff2bf703-25d9-42e2-cfd2-c005e8eff08b",
    "scrolled": false
   },
   "outputs": [
    {
     "data": {
      "text/plain": [
       "<AxesSubplot:>"
      ]
     },
     "execution_count": 11,
     "metadata": {},
     "output_type": "execute_result"
    },
    {
     "data": {
      "image/png": "[encoded data removed]",
      "text/plain": [
       "<Figure size 1080x576 with 2 Axes>"
      ]
     },
     "metadata": {
      "needs_background": "light"
     },
     "output_type": "display_data"
    }
   ],
   "source": [
    "#plotting the correation between numerical variables\n",
    "plt.figure(figsize=(15,8))\n",
    "sns.heatmap(df.corr(),annot=True, fmt='0.2f', cmap='YlGnBu', mask=mask)"
   ]
  },
  {
   "cell_type": "markdown",
   "id": "231d85ef",
   "metadata": {
    "id": "231d85ef"
   },
   "source": [
    "**Observations:**\n",
    "\n",
    "- **Delivered on time** and **Satisfaction with courior** shows the highest correlation with the target variable at **28% and 22%** respectively, as expected. \n",
    "- **Found everything** and **Ease of app use** are next highest correlation at **17% and 15%**, respectively. \n",
    "- **Pricing** and **Content as expected** have the lowest correlation to the target variable. \n",
    "- Interestingly, **Delivered on time** and **Satisfaction with courior** are highly correlated with each other, possibly indicating that when the order is not delivered on time, the customer is disatisfied with the courier, which makes sense.  "
   ]
  },
  {
   "cell_type": "markdown",
   "id": "62b1c31c",
   "metadata": {
    "id": "62b1c31c"
   },
   "source": [
    "**Now that we have explored our data. Let's build the model**"
   ]
  },
  {
   "cell_type": "markdown",
   "id": "c87d8b8c",
   "metadata": {
    "id": "c87d8b8c"
   },
   "source": [
    "## Model Building - Approach\n",
    "1. Prepare data for modeling\n",
    "2. Partition the data into train and test set.\n",
    "3. Build model on the train data.\n",
    "4. Tune the model if required.\n",
    "5. Test the data on test set."
   ]
  },
  {
   "cell_type": "markdown",
   "id": "9854fafc",
   "metadata": {
    "id": "9854fafc"
   },
   "source": [
    "###  Preparing data for modeling"
   ]
  },
  {
   "cell_type": "markdown",
   "id": "8cf5d26f",
   "metadata": {
    "id": "8cf5d26f"
   },
   "source": [
    "**Separating the independent variables (X) and the dependent variable (Y)**"
   ]
  },
  {
   "cell_type": "code",
   "execution_count": 12,
   "id": "76d1cc91",
   "metadata": {
    "id": "76d1cc91"
   },
   "outputs": [],
   "source": [
    "#Separating target variable and other variables\n",
    "Y= df.Target\n",
    "X= df.drop(columns = ['Target'])"
   ]
  },
  {
   "cell_type": "markdown",
   "id": "0d508522",
   "metadata": {
    "id": "0d508522"
   },
   "source": [
    "### Splitting the data into 65% train and 35% test set"
   ]
  },
  {
   "cell_type": "code",
   "execution_count": 13,
   "id": "96bfa6a3",
   "metadata": {
    "id": "96bfa6a3"
   },
   "outputs": [],
   "source": [
    "#splitting the data\n",
    "x_train,x_test,y_train,y_test=train_test_split(X,Y,test_size=0.35,random_state=1,stratify=Y)"
   ]
  },
  {
   "cell_type": "markdown",
   "id": "77645a49",
   "metadata": {
    "id": "77645a49"
   },
   "source": [
    "### Model evaluation criterion\n",
    "\n",
    "#### The model can make two types of wrong predictions:\n",
    "1. Predicting a customer is unhappy when the customer is not unhappy\n",
    "2. Predicting a customer is happy when the customer is unhappy\n",
    "\n",
    "#### Which case is more important? \n",
    "* **Predicting that the is happy when the customer is unhappy** i.e. losing a valuable customer. This would be considered a major miss for our predictor, and is hence the more important case of wrong predictions.\n",
    "\n",
    "#### How to reduce this loss i.e the need to reduce False Positives?\n",
    "* **The company would want the Precision to be maximized**, the greater the Recall, the higher the chances of minimizing false negatives. Hence, the focus should be on increasing Precision (minimizing the false positives) or in other words identifying the true negatives (i.e. Class 2) very well, so that the company can provide strategies to increase satisfaction rate. This would help in optimizing the overall focus towards customer satisfaction."
   ]
  },
  {
   "cell_type": "markdown",
   "id": "67963d69",
   "metadata": {
    "id": "67963d69"
   },
   "source": [
    "Also, let's create a function to calculate and print the classification report and confusion matrix so that we don't have to rewrite the same code repeatedly for each model."
   ]
  },
  {
   "cell_type": "code",
   "execution_count": 14,
   "id": "7b305008",
   "metadata": {
    "id": "7b305008"
   },
   "outputs": [],
   "source": [
    "#creating metric function \n",
    "def metrics_score(actual, predicted):\n",
    "    print(classification_report(actual, predicted))\n",
    "    cm = confusion_matrix(actual, predicted)\n",
    "    plt.figure(figsize=(8,5))\n",
    "    sns.heatmap(cm, annot=True,  fmt='.2f', xticklabels=['Not Happy', 'Happy'], yticklabels=['Not Happy', 'Happy'])\n",
    "    plt.ylabel('Actual')\n",
    "    plt.xlabel('Predicted')\n",
    "    plt.show()"
   ]
  },
  {
   "cell_type": "markdown",
   "id": "38857a84",
   "metadata": {
    "id": "38857a84"
   },
   "source": [
    "#### Building the model\n",
    "\n",
    "We will be building 7 different models:\n",
    "- **Logistic Regression**\n",
    "- **K Nearest Neighbors (KNN)**\n",
    "- **Linear Discriminant Analysis (LDA)**\n",
    "- **Quadratic Discriminant Analysis (QDA)**\n",
    "- **XG Boost**\n",
    "- **Decision Tree**\n",
    "- **Random Forest**"
   ]
  },
  {
   "cell_type": "markdown",
   "id": "3d8148ec",
   "metadata": {
    "id": "1de66d84"
   },
   "source": [
    "### Logistic Regression Model "
   ]
  },
  {
   "cell_type": "markdown",
   "id": "291c24eb",
   "metadata": {
    "id": "2a192a78"
   },
   "source": [
    "- Logistic Regression is a supervised learning algorithm which is used for **binary classification problems** i.e. where the dependent variable is categorical and has only two possible values. In logistic regression, we use the sigmoid function to calculate the probability of an event y, given some features x as:\n",
    "\n",
    "                                          P(y)=1/exp(1 + exp(-x))"
   ]
  },
  {
   "cell_type": "code",
   "execution_count": 15,
   "id": "9f47bf35",
   "metadata": {
    "id": "1c3fec96",
    "outputId": "9bca79ca-b15a-4868-e3b2-dbf62e54fd14"
   },
   "outputs": [
    {
     "data": {
      "text/plain": [
       "LogisticRegression()"
      ]
     },
     "execution_count": 15,
     "metadata": {},
     "output_type": "execute_result"
    }
   ],
   "source": [
    "#fitting logistic regression model\n",
    "lg=LogisticRegression()\n",
    "lg.fit(x_train,y_train)"
   ]
  },
  {
   "cell_type": "markdown",
   "id": "35621466",
   "metadata": {
    "id": "f45ec38a"
   },
   "source": [
    "**Checking model performance**"
   ]
  },
  {
   "cell_type": "code",
   "execution_count": 16,
   "id": "a2be8be1",
   "metadata": {
    "id": "9a3062aa",
    "outputId": "a41ccb8d-7640-4ab5-d4da-5fd22c1edce5"
   },
   "outputs": [
    {
     "name": "stdout",
     "output_type": "stream",
     "text": [
      "              precision    recall  f1-score   support\n",
      "\n",
      "           0       0.59      0.51      0.55        37\n",
      "           1       0.63      0.70      0.67        44\n",
      "\n",
      "    accuracy                           0.62        81\n",
      "   macro avg       0.61      0.61      0.61        81\n",
      "weighted avg       0.61      0.62      0.61        81\n",
      "\n"
     ]
    },
    {
     "data": {
      "image/png": "[encoded data removed]",
      "text/plain": [
       "<Figure size 576x360 with 2 Axes>"
      ]
     },
     "metadata": {
      "needs_background": "light"
     },
     "output_type": "display_data"
    }
   ],
   "source": [
    "#checking the performance on the training data\n",
    "y_pred_train = lg.predict(x_train)\n",
    "metrics_score(y_train, y_pred_train)"
   ]
  },
  {
   "cell_type": "code",
   "execution_count": 17,
   "id": "739268c3",
   "metadata": {
    "id": "218089fd",
    "outputId": "62a94942-8b29-4459-c315-39e22b6e201d",
    "scrolled": false
   },
   "outputs": [
    {
     "name": "stdout",
     "output_type": "stream",
     "text": [
      "              precision    recall  f1-score   support\n",
      "\n",
      "           0       0.53      0.50      0.51        20\n",
      "           1       0.62      0.64      0.63        25\n",
      "\n",
      "    accuracy                           0.58        45\n",
      "   macro avg       0.57      0.57      0.57        45\n",
      "weighted avg       0.58      0.58      0.58        45\n",
      "\n"
     ]
    },
    {
     "data": {
      "image/png": "[encoded data removed]",
      "text/plain": [
       "<Figure size 576x360 with 2 Axes>"
      ]
     },
     "metadata": {
      "needs_background": "light"
     },
     "output_type": "display_data"
    }
   ],
   "source": [
    "#checking the performance on the test dataset\n",
    "y_pred_test = lg.predict(x_test)\n",
    "metrics_score(y_test, y_pred_test)"
   ]
  },
  {
   "cell_type": "markdown",
   "id": "ea5166d8",
   "metadata": {
    "id": "a871f9cb"
   },
   "source": [
    "- The reported average includes the macro average which averages the unweighted mean per label, and the weighted average i.e. averaging the support-weighted mean per label.\n",
    "- In classification, the class of interest is considered the positive class. Here, the class of interest is 1 i.e. identifying happy customers.\n",
    "\n",
    "**Reading the confusion matrix (clockwise):**\n",
    "\n",
    "* False Positive (Actual=0, Predicted=1): Model predicts that a customer is happy and the customer is not happy\n",
    "\n",
    "* True Positive (Actual=1, Predicted=1): Model predicts that a customer is unhappy and the customer is unhappy \n",
    "\n",
    "* False Negative (Actual=1, Predicted=0): Model predicts that a customer is unhappy and the customer is not unhappy\n",
    "\n",
    "* True Negative (Actual=0, Predicted=0): Model predicts that a customer is unhappy and the customer is unhappy "
   ]
  },
  {
   "cell_type": "markdown",
   "id": "ecc39ca1",
   "metadata": {
    "id": "d96c4a64"
   },
   "source": [
    "**Observations:**\n",
    "- The model is not performing well in terms of accuracy.\n",
    "- The precision for class 1 is quite low (**62%**) in the test score, which implies that this model will not perform well in differentiating customers who are unhappy. \n",
    "- The model is giving a **64%** in recall, also not that high.  "
   ]
  },
  {
   "cell_type": "markdown",
   "id": "a63706d5",
   "metadata": {
    "id": "dc744c23"
   },
   "source": [
    "**Let's check the coefficients and find which variables are leading to customer disatifaction**"
   ]
  },
  {
   "cell_type": "code",
   "execution_count": 18,
   "id": "d0c876df",
   "metadata": {
    "id": "82beae47",
    "outputId": "ced49131-018c-47b9-b523-a1ec728ea249"
   },
   "outputs": [
    {
     "data": {
      "text/html": [
       "<div>\n",
       "<style scoped>\n",
       "    .dataframe tbody tr th:only-of-type {\n",
       "        vertical-align: middle;\n",
       "    }\n",
       "\n",
       "    .dataframe tbody tr th {\n",
       "        vertical-align: top;\n",
       "    }\n",
       "\n",
       "    .dataframe thead th {\n",
       "        text-align: right;\n",
       "    }\n",
       "</style>\n",
       "<table border=\"1\" class=\"dataframe\">\n",
       "  <thead>\n",
       "    <tr style=\"text-align: right;\">\n",
       "      <th></th>\n",
       "      <th>0</th>\n",
       "    </tr>\n",
       "  </thead>\n",
       "  <tbody>\n",
       "    <tr>\n",
       "      <th>Satisfied_with_courier</th>\n",
       "      <td>0.391698</td>\n",
       "    </tr>\n",
       "    <tr>\n",
       "      <th>Delivered_on_Time</th>\n",
       "      <td>0.297239</td>\n",
       "    </tr>\n",
       "    <tr>\n",
       "      <th>Found_everything</th>\n",
       "      <td>0.200508</td>\n",
       "    </tr>\n",
       "    <tr>\n",
       "      <th>App_ease</th>\n",
       "      <td>0.159276</td>\n",
       "    </tr>\n",
       "    <tr>\n",
       "      <th>Good_Price</th>\n",
       "      <td>0.096947</td>\n",
       "    </tr>\n",
       "    <tr>\n",
       "      <th>Contents_as_expected</th>\n",
       "      <td>-0.240123</td>\n",
       "    </tr>\n",
       "  </tbody>\n",
       "</table>\n",
       "</div>"
      ],
      "text/plain": [
       "                               0\n",
       "Satisfied_with_courier  0.391698\n",
       "Delivered_on_Time       0.297239\n",
       "Found_everything        0.200508\n",
       "App_ease                0.159276\n",
       "Good_Price              0.096947\n",
       "Contents_as_expected   -0.240123"
      ]
     },
     "execution_count": 18,
     "metadata": {},
     "output_type": "execute_result"
    }
   ],
   "source": [
    "#printing the coefficients of logistic regression\n",
    "cols=X.columns\n",
    "\n",
    "coef_lg=lg.coef_\n",
    "\n",
    "pd.DataFrame(coef_lg,columns=cols).T.sort_values(by=0,ascending=False)"
   ]
  },
  {
   "cell_type": "markdown",
   "id": "a8adeef5",
   "metadata": {
    "id": "163545b6"
   },
   "source": [
    "**Observations:**\n",
    "\n",
    "**Features with strong positive affect on the happiness rate are:**\n",
    "- Satisfied with courier\t\n",
    "- Delivered on time\t\n",
    "- Found everything\n",
    "\n",
    "**Features which string negative affect on the attrition rate are:**\n",
    "- Content as expected"
   ]
  },
  {
   "cell_type": "markdown",
   "id": "e9f0f9c9",
   "metadata": {
    "id": "4291d05e"
   },
   "source": [
    "The coefficients of the logistic regression model give us the log of odds, which is hard to interpret in the real world. We can convert the log of odds into real odds by taking its exponential."
   ]
  },
  {
   "cell_type": "code",
   "execution_count": 19,
   "id": "4fe4c5fa",
   "metadata": {
    "id": "9d48313b",
    "outputId": "33a2e695-0f22-400e-f8b8-1827c63821da"
   },
   "outputs": [
    {
     "data": {
      "text/html": [
       "<div>\n",
       "<style scoped>\n",
       "    .dataframe tbody tr th:only-of-type {\n",
       "        vertical-align: middle;\n",
       "    }\n",
       "\n",
       "    .dataframe tbody tr th {\n",
       "        vertical-align: top;\n",
       "    }\n",
       "\n",
       "    .dataframe thead th {\n",
       "        text-align: right;\n",
       "    }\n",
       "</style>\n",
       "<table border=\"1\" class=\"dataframe\">\n",
       "  <thead>\n",
       "    <tr style=\"text-align: right;\">\n",
       "      <th></th>\n",
       "      <th>odds</th>\n",
       "    </tr>\n",
       "  </thead>\n",
       "  <tbody>\n",
       "    <tr>\n",
       "      <th>Satisfied_with_courier</th>\n",
       "      <td>1.479491</td>\n",
       "    </tr>\n",
       "    <tr>\n",
       "      <th>Delivered_on_Time</th>\n",
       "      <td>1.346137</td>\n",
       "    </tr>\n",
       "    <tr>\n",
       "      <th>Found_everything</th>\n",
       "      <td>1.222023</td>\n",
       "    </tr>\n",
       "    <tr>\n",
       "      <th>App_ease</th>\n",
       "      <td>1.172662</td>\n",
       "    </tr>\n",
       "    <tr>\n",
       "      <th>Good_Price</th>\n",
       "      <td>1.101802</td>\n",
       "    </tr>\n",
       "    <tr>\n",
       "      <th>Contents_as_expected</th>\n",
       "      <td>0.786531</td>\n",
       "    </tr>\n",
       "  </tbody>\n",
       "</table>\n",
       "</div>"
      ],
      "text/plain": [
       "                            odds\n",
       "Satisfied_with_courier  1.479491\n",
       "Delivered_on_Time       1.346137\n",
       "Found_everything        1.222023\n",
       "App_ease                1.172662\n",
       "Good_Price              1.101802\n",
       "Contents_as_expected    0.786531"
      ]
     },
     "execution_count": 19,
     "metadata": {},
     "output_type": "execute_result"
    }
   ],
   "source": [
    "odds = np.exp(lg.coef_[0]) #finding the odds\n",
    "\n",
    "# adding the odds to a dataframe and sorting the values\n",
    "pd.DataFrame(odds, x_train.columns, columns=['odds']).sort_values(by='odds', ascending=False) "
   ]
  },
  {
   "cell_type": "markdown",
   "id": "a5df0d4d",
   "metadata": {
    "id": "8f068e40"
   },
   "source": [
    "- The odds of a customer who is **satisfied with the courier** to be happy are **1.48 times** the odds of one who is not, probably due to the fact that the courier is the human component that the customer deals with and the customer's disatisfaction links back to the company. \n",
    "- The odds of customer receiving a **delivery on time** being happy is **1.35** the odds of a customer receiving a package late being happy.\n",
    "- The odds of a customer who **found everything** they're looking for being happy is **1.22 times (22% higher than)** the odds of customers who didn't everything they're looking for."
   ]
  },
  {
   "cell_type": "markdown",
   "id": "8107a98a",
   "metadata": {
    "id": "991566fe"
   },
   "source": [
    "**Precision-Recall Curve for logistic regression**"
   ]
  },
  {
   "cell_type": "code",
   "execution_count": 20,
   "id": "987f292d",
   "metadata": {
    "id": "9ee22ec1",
    "outputId": "b8f98181-3e96-4fc1-d0e5-aab4f68c1140"
   },
   "outputs": [
    {
     "data": {
      "image/png": "[encoded data removed]",
      "text/plain": [
       "<Figure size 720x504 with 1 Axes>"
      ]
     },
     "metadata": {
      "needs_background": "light"
     },
     "output_type": "display_data"
    }
   ],
   "source": [
    "y_scores_lg=lg.predict_proba(x_train) #predict_proba gives the probability of each observation belonging to each class\n",
    "\n",
    "precisions_lg, recalls_lg, thresholds_lg = precision_recall_curve(y_train, y_scores_lg[:,1])\n",
    "\n",
    "#Plot values of precisions, recalls, and thresholds\n",
    "plt.figure(figsize=(10,7))\n",
    "plt.plot(thresholds_lg, precisions_lg[:-1], 'b--', label='precision')\n",
    "plt.plot(thresholds_lg, recalls_lg[:-1], 'g--', label = 'recall')\n",
    "plt.xlabel('Threshold')\n",
    "plt.legend(loc='upper left')\n",
    "plt.ylim([0,1])\n",
    "plt.show()"
   ]
  },
  {
   "cell_type": "markdown",
   "id": "c08e276c",
   "metadata": {
    "id": "da12cf85"
   },
   "source": [
    "**Observation:**\n",
    "- We can see that precision and recall are balanced for a threshold of about ~**0.55**.\n",
    "\n",
    "**Let's find out the performance of the model at this threshold**"
   ]
  },
  {
   "cell_type": "code",
   "execution_count": 21,
   "id": "d90f9099",
   "metadata": {
    "id": "5611de61",
    "outputId": "fb449d75-16a7-4319-9a6a-f5f0b042f94b",
    "scrolled": false
   },
   "outputs": [
    {
     "name": "stdout",
     "output_type": "stream",
     "text": [
      "              precision    recall  f1-score   support\n",
      "\n",
      "           0       0.58      0.57      0.58        37\n",
      "           1       0.64      0.66      0.65        44\n",
      "\n",
      "    accuracy                           0.62        81\n",
      "   macro avg       0.61      0.61      0.61        81\n",
      "weighted avg       0.62      0.62      0.62        81\n",
      "\n"
     ]
    },
    {
     "data": {
      "image/png": "[encoded data removed]",
      "text/plain": [
       "<Figure size 576x360 with 2 Axes>"
      ]
     },
     "metadata": {
      "needs_background": "light"
     },
     "output_type": "display_data"
    }
   ],
   "source": [
    "optimal_threshold1=.55\n",
    "y_pred_train = lg.predict_proba(x_train)\n",
    "metrics_score(y_train, y_pred_train[:,1]>optimal_threshold1)"
   ]
  },
  {
   "cell_type": "markdown",
   "id": "e3754b17",
   "metadata": {
    "id": "e048d817"
   },
   "source": [
    "- **The model performance has hot improved**\n",
    "- Let's check the performance on the test data."
   ]
  },
  {
   "cell_type": "code",
   "execution_count": 22,
   "id": "c24f83d8",
   "metadata": {
    "id": "914fc850",
    "outputId": "8ff54ff5-1dde-430b-c342-a415c20ca9c4",
    "scrolled": false
   },
   "outputs": [
    {
     "name": "stdout",
     "output_type": "stream",
     "text": [
      "              precision    recall  f1-score   support\n",
      "\n",
      "           0       0.50      0.50      0.50        20\n",
      "           1       0.60      0.60      0.60        25\n",
      "\n",
      "    accuracy                           0.56        45\n",
      "   macro avg       0.55      0.55      0.55        45\n",
      "weighted avg       0.56      0.56      0.56        45\n",
      "\n"
     ]
    },
    {
     "data": {
      "image/png": "[encoded data removed]",
      "text/plain": [
       "<Figure size 576x360 with 2 Axes>"
      ]
     },
     "metadata": {
      "needs_background": "light"
     },
     "output_type": "display_data"
    }
   ],
   "source": [
    "optimal_threshold1=.55\n",
    "y_pred_test = lg.predict_proba(x_test)\n",
    "metrics_score(y_test, y_pred_test[:,1]>optimal_threshold1)"
   ]
  },
  {
   "cell_type": "markdown",
   "id": "1c0f9e48",
   "metadata": {
    "id": "c53367ce"
   },
   "source": [
    "**Observation:**\n",
    "- The model has **not improved**, in fact it has dropped to **60%** precision, **60%** recall. The average recall and precision for the model are not optimal but let's see if we can get better performance using other algorithms. "
   ]
  },
  {
   "cell_type": "markdown",
   "id": "72c27c40",
   "metadata": {
    "id": "a61f49ee"
   },
   "source": [
    "### K- Nearest Neighbors (KNN) Model "
   ]
  },
  {
   "cell_type": "markdown",
   "id": "82e7390a",
   "metadata": {
    "id": "0fb5417c"
   },
   "source": [
    "KNN uses similar features to predict the values of new data points, which means the new data point will be assigned a value based on how similar it is to the data points in the training set. \n",
    "\n",
    "\n",
    "The following steps are performed in KNN:\n",
    "\n",
    "- Select K\n",
    "- Calculate distance (Euclidean, Manhattan, etc.)\n",
    "- Find the K closest neighbors\n",
    "- Vote for labels\n",
    "\n",
    "The “K” in the KNN algorithm is the nearest neighbor we wish to take the vote from. Generally, K is taken to be an odd number when the no. of classes are even, so as to get a majority vote. Let's say K = 3. In that case, we will make a circle with the new data point as the center just as big as enclosing only the three nearest data points on the plane.\n",
    "\n",
    "**But before actually building the model, we need to identify the value of K to be used in KNN. We will perform the following steps for the same.**\n",
    "\n",
    "- For every value of K (from 1 to 15), split the train set into new train and validation set (30 times)\n",
    "- Scale the training data and validation data\n",
    "- Take the average of the error on these train and the validation sets for each K\n",
    "- Plot the average train vs the validation set error for all Ks \n",
    "- Choose a suitable K from the plot where the two errors are comparable"
   ]
  },
  {
   "cell_type": "code",
   "execution_count": 23,
   "id": "9bdd255b",
   "metadata": {
    "id": "29b49ff1",
    "outputId": "0e85bbda-760a-4b3e-c4d8-ddfbc398d364"
   },
   "outputs": [
    {
     "data": {
      "text/plain": [
       "{1: [0.04423076923076922, 0.4540229885057471],\n",
       " 2: [0.20576923076923087, 0.48045977011494234],\n",
       " 3: [0.2371794871794872, 0.47816091954022977],\n",
       " 4: [0.26346153846153847, 0.4942528735632184],\n",
       " 5: [0.29679487179487174, 0.48620689655172417],\n",
       " 6: [0.325, 0.5218390804597701],\n",
       " 7: [0.333974358974359, 0.4977011494252873],\n",
       " 8: [0.35833333333333334, 0.5068965517241378],\n",
       " 9: [0.3570512820512821, 0.47241379310344833],\n",
       " 10: [0.3467948717948718, 0.4919540229885057],\n",
       " 11: [0.366025641025641, 0.49999999999999983],\n",
       " 12: [0.38076923076923086, 0.4770114942528736],\n",
       " 13: [0.37884615384615394, 0.4758620689655171],\n",
       " 14: [0.3737179487179487, 0.4724137931034483]}"
      ]
     },
     "execution_count": 23,
     "metadata": {},
     "output_type": "execute_result"
    }
   ],
   "source": [
    "knn = KNeighborsClassifier()\n",
    "\n",
    "# We select the best value of k for which the error rate is the least in the validation data\n",
    "# Let us loop over a few values of the k to determine the best k\n",
    "train_error = []\n",
    "test_error = []\n",
    "knn_many_split = {}\n",
    "\n",
    "error_df_knn = pd.DataFrame()\n",
    "features = X.columns\n",
    "\n",
    "for k in range(1,15):\n",
    "    train_error = []\n",
    "    test_error = []\n",
    "    lista = []\n",
    "    knn = KNeighborsClassifier(n_neighbors=k)\n",
    "    for i in range(30):\n",
    "        x_train_new, x_val, y_train_new, y_val = train_test_split(x_train, y_train, test_size = 0.35)\n",
    "    \n",
    "        #Fitting knn on training data\n",
    "        knn.fit(x_train_new, y_train_new)\n",
    "        #Calculating error on training and validation data\n",
    "        train_error.append(1 - knn.score(x_train_new, y_train_new)) \n",
    "        test_error.append(1 - knn.score(x_val, y_val))\n",
    "    lista.append(sum(train_error)/len(train_error))\n",
    "    lista.append(sum(test_error)/len(test_error))\n",
    "    knn_many_split[k] = lista\n",
    "\n",
    "knn_many_split"
   ]
  },
  {
   "cell_type": "code",
   "execution_count": 24,
   "id": "726aa5f5",
   "metadata": {
    "id": "e73266d5",
    "outputId": "d306a885-0436-4008-9e2c-bd88cea1d95f"
   },
   "outputs": [
    {
     "data": {
      "image/png": "[encoded data removed]",
      "text/plain": [
       "<Figure size 720x432 with 1 Axes>"
      ]
     },
     "metadata": {
      "needs_background": "light"
     },
     "output_type": "display_data"
    }
   ],
   "source": [
    "kltest = []\n",
    "vltest = []\n",
    "for k, v in knn_many_split.items():\n",
    "    kltest.append(k)\n",
    "    vltest.append(knn_many_split[k][1])\n",
    "\n",
    "kltrain = []\n",
    "vltrain = []\n",
    "\n",
    "for k, v in knn_many_split.items():\n",
    "    kltrain.append(k)\n",
    "    vltrain.append(knn_many_split[k][0])\n",
    "\n",
    "# Plotting k vs error error\n",
    "plt.figure(figsize=(10,6))\n",
    "plt.plot(kltest,vltest, label = 'test' )\n",
    "plt.plot(kltrain,vltrain, label = 'train')\n",
    "plt.legend()\n",
    "plt.show()"
   ]
  },
  {
   "cell_type": "markdown",
   "id": "9388444c",
   "metadata": {
    "id": "6e221421"
   },
   "source": [
    "- We can see that the test error is more or less similar for K greater than or equal to 5. But the train error keeps increasing with increasing K.\n",
    "- This implies that we would get a lower train and test error if we choose K = 5. Also, if we choose a high value of K, the model would get biased due to the imbalance in the dataset.\n",
    "- So, let's fit the KNN model with **K = 5** on the entire training set."
   ]
  },
  {
   "cell_type": "code",
   "execution_count": 25,
   "id": "b864f98e",
   "metadata": {
    "id": "e7a34d15"
   },
   "outputs": [],
   "source": [
    "#define knn model\n",
    "knn=KNeighborsClassifier(n_neighbors=5)"
   ]
  },
  {
   "cell_type": "code",
   "execution_count": 26,
   "id": "cab7a9f5",
   "metadata": {
    "id": "33ec33a2",
    "outputId": "7438291a-25df-472c-daef-67302c35ce56"
   },
   "outputs": [
    {
     "data": {
      "text/plain": [
       "KNeighborsClassifier()"
      ]
     },
     "execution_count": 26,
     "metadata": {},
     "output_type": "execute_result"
    }
   ],
   "source": [
    "#fitting data to the KNN model\n",
    "knn.fit(x_train,y_train)"
   ]
  },
  {
   "cell_type": "code",
   "execution_count": 27,
   "id": "70011c9d",
   "metadata": {
    "id": "3c5ff6f9",
    "outputId": "9d579ef4-a0ed-4743-eae8-e36290d39dca"
   },
   "outputs": [
    {
     "name": "stdout",
     "output_type": "stream",
     "text": [
      "              precision    recall  f1-score   support\n",
      "\n",
      "           0       0.71      0.59      0.65        37\n",
      "           1       0.70      0.80      0.74        44\n",
      "\n",
      "    accuracy                           0.70        81\n",
      "   macro avg       0.70      0.70      0.70        81\n",
      "weighted avg       0.70      0.70      0.70        81\n",
      "\n"
     ]
    },
    {
     "data": {
      "image/png": "[encoded data removed]",
      "text/plain": [
       "<Figure size 576x360 with 2 Axes>"
      ]
     },
     "metadata": {
      "needs_background": "light"
     },
     "output_type": "display_data"
    }
   ],
   "source": [
    "#checking the performance of knn model\n",
    "y_pred_train_knn = knn.predict(x_train)\n",
    "metrics_score(y_train, y_pred_train_knn)"
   ]
  },
  {
   "cell_type": "code",
   "execution_count": 28,
   "id": "9db39e5e",
   "metadata": {
    "id": "89076d10",
    "outputId": "3a5cfc95-4c95-442b-83bd-d1ab1aac49d9",
    "scrolled": false
   },
   "outputs": [
    {
     "name": "stdout",
     "output_type": "stream",
     "text": [
      "              precision    recall  f1-score   support\n",
      "\n",
      "           0       0.48      0.50      0.49        20\n",
      "           1       0.58      0.56      0.57        25\n",
      "\n",
      "    accuracy                           0.53        45\n",
      "   macro avg       0.53      0.53      0.53        45\n",
      "weighted avg       0.54      0.53      0.53        45\n",
      "\n"
     ]
    },
    {
     "data": {
      "image/png": "[encoded data removed]",
      "text/plain": [
       "<Figure size 576x360 with 2 Axes>"
      ]
     },
     "metadata": {
      "needs_background": "light"
     },
     "output_type": "display_data"
    }
   ],
   "source": [
    "y_pred_test_knn = knn.predict(x_test)\n",
    "metrics_score(y_test, y_pred_test_knn)"
   ]
  },
  {
   "cell_type": "markdown",
   "id": "cfa51ca6",
   "metadata": {
    "id": "dffaa988"
   },
   "source": [
    "- The model performs very well on the training set but not has well on the test set which implies the model is **overfitting**.\n",
    "- The test score is **58%** for **precision**, 2% less than the logistic regression model and **56%** recall score, which is 4% less than the logistic regression model."
   ]
  },
  {
   "cell_type": "markdown",
   "id": "6466c201",
   "metadata": {
    "id": "6d2a78d6"
   },
   "source": [
    "**Let's try to fine tune this model and check if we could increase the Recall.**"
   ]
  },
  {
   "cell_type": "markdown",
   "id": "c8c46e13",
   "metadata": {
    "id": "04a4742d"
   },
   "source": [
    "### Using GridSearchCV for Hyperparameter tuning model"
   ]
  },
  {
   "cell_type": "markdown",
   "id": "34a06272",
   "metadata": {
    "id": "9d503ec1"
   },
   "source": [
    "* Hyperparameter tuning is tricky in the sense that there is no direct way to calculate how a change in the hyperparameter value will reduce the loss of your model, so we usually resort to experimentation.\n",
    "* **Grid search** is a tuning technique that attempts to compute the optimum values of hyperparameters. \n",
    "* It is an exhaustive search that is performed on specific parameter values of a model.\n",
    "* The parameters of the estimator/model used to apply these methods are optimized by cross-validated grid-search over a parameter grid."
   ]
  },
  {
   "cell_type": "markdown",
   "id": "aa545ba8",
   "metadata": {
    "id": "fa4c32d9"
   },
   "source": [
    "-> **n_neighborsin**\n",
    "\n",
    "- Number of neighbors to use by default for kneighbors queries.\n",
    "\n",
    "-> **weights={‘uniform’, ‘distance’}**\n",
    "- uniform : uniform weights. All points in each neighborhood are weighted equally.\n",
    "- distance : weight points by the inverse of their distance. In this case, the closer neighbors of a query point will have a greater influence than neighbors which are further away.\n",
    "\n",
    "-> **p**\n",
    "\n",
    "- When p = 1, this is equivalent to using manhattan_distance (L1), and euclidean_distance (L2) is used for p = 2.\n"
   ]
  },
  {
   "cell_type": "code",
   "execution_count": 29,
   "id": "9a44d6d4",
   "metadata": {
    "id": "a1028eb8",
    "outputId": "9e6b046a-91b5-46bd-e055-d21e9e2069d8"
   },
   "outputs": [
    {
     "name": "stdout",
     "output_type": "stream",
     "text": [
      "KNeighborsClassifier(n_neighbors=7, p=1, weights='distance')\n"
     ]
    }
   ],
   "source": [
    "params_knn={'n_neighbors':np.arange(3,15),'weights':['uniform','distance'],'p':[1,2]}\n",
    "\n",
    "grid_knn=GridSearchCV(estimator=knn,param_grid=params_knn,scoring='recall',cv=10)\n",
    "\n",
    "model_knn=grid_knn.fit(x_train,y_train)\n",
    "\n",
    "knn_estimator = model_knn.best_estimator_\n",
    "print(knn_estimator)"
   ]
  },
  {
   "cell_type": "markdown",
   "id": "205e7a76",
   "metadata": {
    "id": "24caa73f"
   },
   "source": [
    "- The best hyperparameters for the KNN classifier are n_neighbors=3, weights='distance', and p=1\n",
    "\n",
    "**Let's use these parameters to build the new KNN model and find the recall of that model.**"
   ]
  },
  {
   "cell_type": "code",
   "execution_count": 30,
   "id": "ad097caa",
   "metadata": {
    "id": "0829b7ce",
    "outputId": "6ba8f785-a462-4692-a979-60ada08ef21c"
   },
   "outputs": [
    {
     "data": {
      "text/plain": [
       "KNeighborsClassifier(n_neighbors=7, p=1, weights='distance')"
      ]
     },
     "execution_count": 30,
     "metadata": {},
     "output_type": "execute_result"
    }
   ],
   "source": [
    "#Fit the best estimator on the training data\n",
    "knn_estimator.fit(x_train, y_train)"
   ]
  },
  {
   "cell_type": "code",
   "execution_count": 31,
   "id": "c162c7cf",
   "metadata": {
    "id": "4f7e2cfc",
    "outputId": "0a7eacf4-32ee-4ca9-d3a1-14df6a786f8a"
   },
   "outputs": [
    {
     "name": "stdout",
     "output_type": "stream",
     "text": [
      "              precision    recall  f1-score   support\n",
      "\n",
      "           0       0.86      1.00      0.92        37\n",
      "           1       1.00      0.86      0.93        44\n",
      "\n",
      "    accuracy                           0.93        81\n",
      "   macro avg       0.93      0.93      0.93        81\n",
      "weighted avg       0.94      0.93      0.93        81\n",
      "\n"
     ]
    },
    {
     "data": {
      "image/png": "[encoded data removed]",
      "text/plain": [
       "<Figure size 576x360 with 2 Axes>"
      ]
     },
     "metadata": {
      "needs_background": "light"
     },
     "output_type": "display_data"
    }
   ],
   "source": [
    "y_pred_train_knn_estimator = knn_estimator.predict(x_train)\n",
    "metrics_score(y_train, y_pred_train_knn_estimator)"
   ]
  },
  {
   "cell_type": "code",
   "execution_count": 32,
   "id": "e032470b",
   "metadata": {
    "id": "455946fd",
    "outputId": "dc021d91-5080-4341-c4b8-592aef359640",
    "scrolled": false
   },
   "outputs": [
    {
     "name": "stdout",
     "output_type": "stream",
     "text": [
      "              precision    recall  f1-score   support\n",
      "\n",
      "           0       0.42      0.55      0.48        20\n",
      "           1       0.53      0.40      0.45        25\n",
      "\n",
      "    accuracy                           0.47        45\n",
      "   macro avg       0.47      0.48      0.47        45\n",
      "weighted avg       0.48      0.47      0.47        45\n",
      "\n"
     ]
    },
    {
     "data": {
      "image/png": "[encoded data removed]",
      "text/plain": [
       "<Figure size 576x360 with 2 Axes>"
      ]
     },
     "metadata": {
      "needs_background": "light"
     },
     "output_type": "display_data"
    }
   ],
   "source": [
    "y_pred_test_knn_estimator = knn_estimator.predict(x_test)\n",
    "metrics_score(y_test, y_pred_test_knn_estimator)"
   ]
  },
  {
   "cell_type": "markdown",
   "id": "33f2ee2a",
   "metadata": {
    "id": "5cecd709"
   },
   "source": [
    "**Observations:**\n",
    "- This model still seems to be overfitting - performance scores on the training set improved by the got worse in the test set. \n",
    "- **Test recall and precision have decreased** by tuning the KNN classifier.\n",
    "- This appears to be a low-performing model that the company can use to help improve customer satisfaction. There is about an **53% chance** that the model will detect customer satisfaction, and the company will hence be not be able to take the appropriate action."
   ]
  },
  {
   "cell_type": "markdown",
   "id": "20330dad",
   "metadata": {
    "id": "20330dad"
   },
   "source": [
    "### Linear Discriminant Analysis"
   ]
  },
  {
   "cell_type": "markdown",
   "id": "7b4ba67c",
   "metadata": {
    "id": "7b4ba67c"
   },
   "source": [
    "Linear discriminant analysis (LDA) is generally used to classify patterns between two classes; however, it can be extended to classify multiple patterns. LDA assumes that all classes are linearly separable and according to this, multiple linear discrimination functions representing several hyperplanes in the feature space are created to distinguish between the classes. If there are two classes, then the LDA draws one hyperplane and projects the data onto this hyperplane in such a way as to maximize the separation of the two categories. This hyperplane is created according to two criteria considered simultaneously:\n",
    "\n",
    "- Maximizing the distance between the means of two classes;\n",
    "- Minimizing the variation between each category."
   ]
  },
  {
   "cell_type": "code",
   "execution_count": 33,
   "id": "e2658d2f",
   "metadata": {
    "id": "e2658d2f",
    "outputId": "6ac6e132-e619-4e64-84b3-8ba9e4727c76",
    "scrolled": true
   },
   "outputs": [
    {
     "data": {
      "text/plain": [
       "LinearDiscriminantAnalysis()"
      ]
     },
     "execution_count": 33,
     "metadata": {},
     "output_type": "execute_result"
    }
   ],
   "source": [
    "#fitting lda model\n",
    "lda = LinearDiscriminantAnalysis()\n",
    "lda.fit(x_train, y_train)"
   ]
  },
  {
   "cell_type": "markdown",
   "id": "68727572",
   "metadata": {
    "id": "68727572"
   },
   "source": [
    "**Checking Model Performance**"
   ]
  },
  {
   "cell_type": "code",
   "execution_count": 34,
   "id": "bda7f9e4",
   "metadata": {
    "id": "bda7f9e4",
    "outputId": "fc0e9e98-c87a-46f7-bb4d-0238671ece6e",
    "scrolled": false
   },
   "outputs": [
    {
     "name": "stdout",
     "output_type": "stream",
     "text": [
      "              precision    recall  f1-score   support\n",
      "\n",
      "           0       0.57      0.46      0.51        37\n",
      "           1       0.61      0.70      0.65        44\n",
      "\n",
      "    accuracy                           0.59        81\n",
      "   macro avg       0.59      0.58      0.58        81\n",
      "weighted avg       0.59      0.59      0.59        81\n",
      "\n"
     ]
    },
    {
     "data": {
      "image/png": "[encoded data removed]",
      "text/plain": [
       "<Figure size 576x360 with 2 Axes>"
      ]
     },
     "metadata": {
      "needs_background": "light"
     },
     "output_type": "display_data"
    }
   ],
   "source": [
    "#checking model performace of lda\n",
    "y_pred_train_lda = lda.predict(x_train)\n",
    "metrics_score(y_train, y_pred_train_lda)"
   ]
  },
  {
   "cell_type": "code",
   "execution_count": 70,
   "id": "f0f0e6c5",
   "metadata": {},
   "outputs": [
    {
     "name": "stdout",
     "output_type": "stream",
     "text": [
      "              precision    recall  f1-score   support\n",
      "\n",
      "           0       0.56      0.50      0.53        20\n",
      "           1       0.63      0.68      0.65        25\n",
      "\n",
      "    accuracy                           0.60        45\n",
      "   macro avg       0.59      0.59      0.59        45\n",
      "weighted avg       0.60      0.60      0.60        45\n",
      "\n"
     ]
    },
    {
     "data": {
      "image/png": "[encoded data removed]",
      "text/plain": [
       "<Figure size 576x360 with 2 Axes>"
      ]
     },
     "metadata": {
      "needs_background": "light"
     },
     "output_type": "display_data"
    }
   ],
   "source": [
    "y_pred_test_lda = lda.predict(x_test)\n",
    "metrics_score(y_test, y_pred_test_lda)"
   ]
  },
  {
   "cell_type": "markdown",
   "id": "321f2eaf",
   "metadata": {
    "id": "321f2eaf"
   },
   "source": [
    "We have built the LDA model. \n",
    "\n",
    "**Now, let's check the coefficients and find which variables are leading to attrition and which can help to reduce the attrition**"
   ]
  },
  {
   "cell_type": "code",
   "execution_count": 35,
   "id": "b444b77b",
   "metadata": {
    "id": "b444b77b",
    "outputId": "cfd70699-c5fc-437e-9760-c3dde4af1ef2"
   },
   "outputs": [
    {
     "data": {
      "text/html": [
       "<div>\n",
       "<style scoped>\n",
       "    .dataframe tbody tr th:only-of-type {\n",
       "        vertical-align: middle;\n",
       "    }\n",
       "\n",
       "    .dataframe tbody tr th {\n",
       "        vertical-align: top;\n",
       "    }\n",
       "\n",
       "    .dataframe thead th {\n",
       "        text-align: right;\n",
       "    }\n",
       "</style>\n",
       "<table border=\"1\" class=\"dataframe\">\n",
       "  <thead>\n",
       "    <tr style=\"text-align: right;\">\n",
       "      <th></th>\n",
       "      <th>0</th>\n",
       "    </tr>\n",
       "  </thead>\n",
       "  <tbody>\n",
       "    <tr>\n",
       "      <th>Satisfied_with_courier</th>\n",
       "      <td>0.411728</td>\n",
       "    </tr>\n",
       "    <tr>\n",
       "      <th>Delivered_on_Time</th>\n",
       "      <td>0.296392</td>\n",
       "    </tr>\n",
       "    <tr>\n",
       "      <th>Found_everything</th>\n",
       "      <td>0.192228</td>\n",
       "    </tr>\n",
       "    <tr>\n",
       "      <th>App_ease</th>\n",
       "      <td>0.162375</td>\n",
       "    </tr>\n",
       "    <tr>\n",
       "      <th>Good_Price</th>\n",
       "      <td>0.091810</td>\n",
       "    </tr>\n",
       "    <tr>\n",
       "      <th>Contents_as_expected</th>\n",
       "      <td>-0.247869</td>\n",
       "    </tr>\n",
       "  </tbody>\n",
       "</table>\n",
       "</div>"
      ],
      "text/plain": [
       "                               0\n",
       "Satisfied_with_courier  0.411728\n",
       "Delivered_on_Time       0.296392\n",
       "Found_everything        0.192228\n",
       "App_ease                0.162375\n",
       "Good_Price              0.091810\n",
       "Contents_as_expected   -0.247869"
      ]
     },
     "execution_count": 35,
     "metadata": {},
     "output_type": "execute_result"
    }
   ],
   "source": [
    "#creating list of column names\n",
    "cols=X.columns\n",
    "\n",
    "#saving coefficients of lda model\n",
    "coef_lda=lda.coef_\n",
    "\n",
    "#printing the cofficients of lda\n",
    "pd.DataFrame(coef_lda,columns=cols).T.sort_values(by=0,ascending=False)"
   ]
  },
  {
   "cell_type": "markdown",
   "id": "24ca3b21",
   "metadata": {
    "id": "24ca3b21"
   },
   "source": [
    "**Features with strong positive affect on the happiness rate are:**\n",
    "- Satisfied with courier\t\n",
    "- Delivered on time\t\n",
    "- Found everything\n",
    "\n",
    "**Features which string negative affect on the attrition rate are:**\n",
    "- Content as expected"
   ]
  },
  {
   "cell_type": "markdown",
   "id": "jZL4An5c_9es",
   "metadata": {
    "id": "jZL4An5c_9es"
   },
   "source": [
    "**Observations:**\n",
    "\n",
    "- The LDA model highlights the same features as the logistic regression model as features that affect customer satisfaction rate. \n",
    "- Based on the LDA model and the logistic regression model, **Satisfied with courier is the most important featuer** in detecting whether a customer is happy or not.\n",
    "- The second most important factor is if the customer receives thier **delivery on time**."
   ]
  },
  {
   "cell_type": "markdown",
   "id": "fdb458e1",
   "metadata": {
    "id": "fdb458e1"
   },
   "source": [
    "#### Precision-Recall Curve for LDA\n",
    "\n",
    "**Precision-Recall curves summarize the trade-off between the true positive rate and the positive predictive value for a predictive model using different probability thresholds.**"
   ]
  },
  {
   "cell_type": "code",
   "execution_count": 36,
   "id": "1d7d2894",
   "metadata": {
    "id": "1d7d2894",
    "outputId": "cda7d7b5-f294-461a-c2dc-90c561f89d76"
   },
   "outputs": [
    {
     "data": {
      "image/png": "[encoded data removed]",
      "text/plain": [
       "<Figure size 720x504 with 1 Axes>"
      ]
     },
     "metadata": {
      "needs_background": "light"
     },
     "output_type": "display_data"
    }
   ],
   "source": [
    "y_scores_lda=lda.predict_proba(x_train) #predict_proba gives the probability of each observation belonging to each class\n",
    "\n",
    "\n",
    "precisions_lda, recalls_lda, thresholds_lda = precision_recall_curve(y_train, y_scores_lda[:,1])\n",
    "\n",
    "#Plot values of precisions, recalls, and thresholds\n",
    "plt.figure(figsize=(10,7))\n",
    "plt.plot(thresholds_lda, precisions_lda[:-1], 'b--', label='precision')\n",
    "plt.plot(thresholds_lda, recalls_lda[:-1], 'g--', label = 'recall')\n",
    "plt.xlabel('Threshold')\n",
    "plt.legend(loc='upper left')\n",
    "plt.ylim([0,1])\n",
    "plt.show()"
   ]
  },
  {
   "cell_type": "markdown",
   "id": "8c3b87cd",
   "metadata": {
    "id": "8c3b87cd"
   },
   "source": [
    "**Observation:**\n",
    "- We can see that precision and recall are balanced for a threshold of about ~0.55."
   ]
  },
  {
   "cell_type": "markdown",
   "id": "2f4523c6",
   "metadata": {
    "id": "2f4523c6"
   },
   "source": [
    "**Let's check the model performance at this threshold**"
   ]
  },
  {
   "cell_type": "code",
   "execution_count": 37,
   "id": "a9f5e56f",
   "metadata": {
    "id": "a9f5e56f",
    "outputId": "8519c78b-4581-4d28-9c9c-70652d5a64fb",
    "scrolled": false
   },
   "outputs": [
    {
     "name": "stdout",
     "output_type": "stream",
     "text": [
      "              precision    recall  f1-score   support\n",
      "\n",
      "           0       0.58      0.57      0.58        37\n",
      "           1       0.64      0.66      0.65        44\n",
      "\n",
      "    accuracy                           0.62        81\n",
      "   macro avg       0.61      0.61      0.61        81\n",
      "weighted avg       0.62      0.62      0.62        81\n",
      "\n"
     ]
    },
    {
     "data": {
      "image/png": "[encoded data removed]",
      "text/plain": [
       "<Figure size 576x360 with 2 Axes>"
      ]
     },
     "metadata": {
      "needs_background": "light"
     },
     "output_type": "display_data"
    }
   ],
   "source": [
    "optimal_threshold1=.55\n",
    "y_pred_train_lda = lda.predict_proba(x_train)\n",
    "metrics_score(y_train, y_pred_train_lda[:,1]>optimal_threshold1)"
   ]
  },
  {
   "cell_type": "code",
   "execution_count": 38,
   "id": "dfe45211",
   "metadata": {
    "id": "dfe45211",
    "outputId": "f6b8508f-00a5-4bfa-aa4b-ad8b229edab5",
    "scrolled": false
   },
   "outputs": [
    {
     "name": "stdout",
     "output_type": "stream",
     "text": [
      "              precision    recall  f1-score   support\n",
      "\n",
      "           0       0.50      0.50      0.50        20\n",
      "           1       0.60      0.60      0.60        25\n",
      "\n",
      "    accuracy                           0.56        45\n",
      "   macro avg       0.55      0.55      0.55        45\n",
      "weighted avg       0.56      0.56      0.56        45\n",
      "\n"
     ]
    },
    {
     "data": {
      "image/png": "[encoded data removed]",
      "text/plain": [
       "<Figure size 576x360 with 2 Axes>"
      ]
     },
     "metadata": {
      "needs_background": "light"
     },
     "output_type": "display_data"
    }
   ],
   "source": [
    "optimal_threshold1=.55\n",
    "y_pred_test_lda = lda.predict_proba(x_test)\n",
    "metrics_score(y_test, y_pred_test_lda[:,1]>optimal_threshold1)"
   ]
  },
  {
   "cell_type": "markdown",
   "id": "5e82f11b",
   "metadata": {
    "id": "5e82f11b"
   },
   "source": [
    "**Observation:**\n",
    "- The model is giving **similar performance on the test and train data**, meaning the model has generalized well.\n",
    "- **The average recall and precision for the model** is 60%, same as logistic regression model. This is still not hitting our goal.  Let's see if we can get a better performance using other algorithms. "
   ]
  },
  {
   "cell_type": "markdown",
   "id": "25142e0a",
   "metadata": {
    "id": "25142e0a"
   },
   "source": [
    "### Quadratic Discriminant Analysis"
   ]
  },
  {
   "cell_type": "markdown",
   "id": "98a4d421",
   "metadata": {
    "id": "98a4d421"
   },
   "source": [
    "Quadratic discriminant analysis (QDA) is a probabilistic parametric classification technique which represents an evolution of LDA for nonlinear class separations. QDA, like LDA, is based on the hypothesis that the probability density distributions are multivariate normal but, in this case, the dispersion is not the same for all of the categories."
   ]
  },
  {
   "cell_type": "code",
   "execution_count": 39,
   "id": "47253a63",
   "metadata": {
    "id": "47253a63",
    "outputId": "30143ea7-a604-4261-e061-4975cb2613c3"
   },
   "outputs": [
    {
     "data": {
      "text/plain": [
       "QuadraticDiscriminantAnalysis()"
      ]
     },
     "execution_count": 39,
     "metadata": {},
     "output_type": "execute_result"
    }
   ],
   "source": [
    "#fitting qda model\n",
    "qda = QuadraticDiscriminantAnalysis()\n",
    "qda.fit(x_train, y_train)"
   ]
  },
  {
   "cell_type": "code",
   "execution_count": 40,
   "id": "21f5948e",
   "metadata": {
    "id": "21f5948e",
    "outputId": "35ec3310-6771-4d43-9a03-2a23f83e78d1",
    "scrolled": true
   },
   "outputs": [
    {
     "name": "stdout",
     "output_type": "stream",
     "text": [
      "              precision    recall  f1-score   support\n",
      "\n",
      "           0       0.76      0.59      0.67        37\n",
      "           1       0.71      0.84      0.77        44\n",
      "\n",
      "    accuracy                           0.73        81\n",
      "   macro avg       0.74      0.72      0.72        81\n",
      "weighted avg       0.73      0.73      0.72        81\n",
      "\n"
     ]
    },
    {
     "data": {
      "image/png": "[encoded data removed]",
      "text/plain": [
       "<Figure size 576x360 with 2 Axes>"
      ]
     },
     "metadata": {
      "needs_background": "light"
     },
     "output_type": "display_data"
    }
   ],
   "source": [
    "#checking model performance on the training data\n",
    "y_pred_train_qda = qda.predict(x_train)\n",
    "metrics_score(y_train, y_pred_train_qda)"
   ]
  },
  {
   "cell_type": "code",
   "execution_count": 41,
   "id": "d78c654f",
   "metadata": {
    "id": "d78c654f",
    "outputId": "a7d06170-e3e4-41d5-feb0-e841065be3da",
    "scrolled": false
   },
   "outputs": [
    {
     "name": "stdout",
     "output_type": "stream",
     "text": [
      "              precision    recall  f1-score   support\n",
      "\n",
      "           0       0.62      0.50      0.56        20\n",
      "           1       0.66      0.76      0.70        25\n",
      "\n",
      "    accuracy                           0.64        45\n",
      "   macro avg       0.64      0.63      0.63        45\n",
      "weighted avg       0.64      0.64      0.64        45\n",
      "\n"
     ]
    },
    {
     "data": {
      "image/png": "[encoded data removed]",
      "text/plain": [
       "<Figure size 576x360 with 2 Axes>"
      ]
     },
     "metadata": {
      "needs_background": "light"
     },
     "output_type": "display_data"
    }
   ],
   "source": [
    "#checking performance of the model on the test data\n",
    "y_pred_test_qda = qda.predict(x_test)\n",
    "metrics_score(y_test, y_pred_test_qda)"
   ]
  },
  {
   "cell_type": "markdown",
   "id": "0d67cebc",
   "metadata": {
    "id": "0d67cebc"
   },
   "source": [
    "**Observations:**\n",
    "- QDA is the highest performing model yet.  Precision scores on the test set is **66%** and recall score is **76%**.  \n",
    "- **The model has a high number of false positives**, i.e the model will predict that the customer is happy even though he/she is not.\n",
    "- This is an **improvement to previous models** but still needs further improvement to be useful to the company.\n",
    "- Let's see if tuning will make it better."
   ]
  },
  {
   "cell_type": "code",
   "execution_count": 42,
   "id": "049e6611",
   "metadata": {},
   "outputs": [],
   "source": [
    "estimator_qda = QuadraticDiscriminantAnalysis()\n",
    "parameters_qda = {\n",
    "    'reg_param': (0.00001, 0.0001, 0.001,0.01, 0.1), \n",
    "    'store_covariance': (True, False),\n",
    "    'tol': (0.0001, 0.001,0.01, 0.1) \n",
    "                   }"
   ]
  },
  {
   "cell_type": "code",
   "execution_count": 43,
   "id": "c4315a3f",
   "metadata": {},
   "outputs": [],
   "source": [
    "grid_search_qda = GridSearchCV(\n",
    "    estimator=estimator_qda,\n",
    "    param_grid=parameters_qda,\n",
    "    scoring = 'accuracy',\n",
    "    n_jobs = -1,\n",
    "    cv = 5\n",
    ")"
   ]
  },
  {
   "cell_type": "code",
   "execution_count": 71,
   "id": "b6185ff5",
   "metadata": {},
   "outputs": [
    {
     "name": "stdout",
     "output_type": "stream",
     "text": [
      "              precision    recall  f1-score   support\n",
      "\n",
      "           0       0.75      0.57      0.65        37\n",
      "           1       0.70      0.84      0.76        44\n",
      "\n",
      "    accuracy                           0.72        81\n",
      "   macro avg       0.72      0.70      0.70        81\n",
      "weighted avg       0.72      0.72      0.71        81\n",
      "\n"
     ]
    },
    {
     "data": {
      "image/png": "[encoded data removed]",
      "text/plain": [
       "<Figure size 576x360 with 2 Axes>"
      ]
     },
     "metadata": {
      "needs_background": "light"
     },
     "output_type": "display_data"
    }
   ],
   "source": [
    "y_pred_train_qda = grid_search_qda.predict(x_train)\n",
    "metrics_score(y_train, y_pred_train_qda)"
   ]
  },
  {
   "cell_type": "code",
   "execution_count": 44,
   "id": "25a199f1",
   "metadata": {},
   "outputs": [],
   "source": [
    "qda=grid_search_qda.fit(x_train, y_train)\n",
    "y_pred =qda.predict(x_test)"
   ]
  },
  {
   "cell_type": "code",
   "execution_count": 45,
   "id": "916c6bbe",
   "metadata": {
    "scrolled": false
   },
   "outputs": [
    {
     "name": "stdout",
     "output_type": "stream",
     "text": [
      "              precision    recall  f1-score   support\n",
      "\n",
      "           0       0.62      0.50      0.56        20\n",
      "           1       0.66      0.76      0.70        25\n",
      "\n",
      "    accuracy                           0.64        45\n",
      "   macro avg       0.64      0.63      0.63        45\n",
      "weighted avg       0.64      0.64      0.64        45\n",
      "\n"
     ]
    },
    {
     "data": {
      "image/png": "[encoded data removed]",
      "text/plain": [
       "<Figure size 576x360 with 2 Axes>"
      ]
     },
     "metadata": {
      "needs_background": "light"
     },
     "output_type": "display_data"
    }
   ],
   "source": [
    "metrics_score(y_test, y_pred)"
   ]
  },
  {
   "cell_type": "markdown",
   "id": "d59bd46c",
   "metadata": {
    "id": "0d67cebc"
   },
   "source": [
    "**Observations:**\n",
    "- Tuning did not change training or test scores much.  Precision scores on the test set is still **66%** and recall score is **76%**.  \n",
    "- QDA is the highest performing model yet, performing **6% better** in precision and **16% better** in recall than previous models.  \n",
    "- Let's see if other algorithms will perform better.  "
   ]
  },
  {
   "cell_type": "markdown",
   "id": "295c29ea",
   "metadata": {
    "id": "4663b361"
   },
   "source": [
    "### Decision Tree"
   ]
  },
  {
   "cell_type": "code",
   "execution_count": 46,
   "id": "2fa6a8ca",
   "metadata": {},
   "outputs": [],
   "source": [
    "#building decision tree\n",
    "dt = DecisionTreeClassifier(class_weight={0:0.452,1:0.548}, random_state=1)"
   ]
  },
  {
   "cell_type": "code",
   "execution_count": 47,
   "id": "8c9ced64",
   "metadata": {},
   "outputs": [
    {
     "data": {
      "text/plain": [
       "DecisionTreeClassifier(class_weight={0: 0.452, 1: 0.548}, random_state=1)"
      ]
     },
     "execution_count": 47,
     "metadata": {},
     "output_type": "execute_result"
    }
   ],
   "source": [
    "dt.fit(x_train, y_train)"
   ]
  },
  {
   "cell_type": "code",
   "execution_count": 48,
   "id": "4a08d19d",
   "metadata": {
    "scrolled": false
   },
   "outputs": [
    {
     "name": "stdout",
     "output_type": "stream",
     "text": [
      "              precision    recall  f1-score   support\n",
      "\n",
      "           0       0.97      0.86      0.91        37\n",
      "           1       0.90      0.98      0.93        44\n",
      "\n",
      "    accuracy                           0.93        81\n",
      "   macro avg       0.93      0.92      0.92        81\n",
      "weighted avg       0.93      0.93      0.93        81\n",
      "\n"
     ]
    },
    {
     "data": {
      "image/png": "[encoded data removed]",
      "text/plain": [
       "<Figure size 576x360 with 2 Axes>"
      ]
     },
     "metadata": {
      "needs_background": "light"
     },
     "output_type": "display_data"
    }
   ],
   "source": [
    "y_pred_train_dt_estimator = dt.predict(x_train)\n",
    "metrics_score(y_train, y_pred_train_dt_estimator)"
   ]
  },
  {
   "cell_type": "code",
   "execution_count": 49,
   "id": "deabf5e6",
   "metadata": {
    "scrolled": false
   },
   "outputs": [
    {
     "name": "stdout",
     "output_type": "stream",
     "text": [
      "              precision    recall  f1-score   support\n",
      "\n",
      "           0       0.55      0.60      0.57        20\n",
      "           1       0.65      0.60      0.63        25\n",
      "\n",
      "    accuracy                           0.60        45\n",
      "   macro avg       0.60      0.60      0.60        45\n",
      "weighted avg       0.60      0.60      0.60        45\n",
      "\n"
     ]
    },
    {
     "data": {
      "image/png": "[encoded data removed]",
      "text/plain": [
       "<Figure size 576x360 with 2 Axes>"
      ]
     },
     "metadata": {
      "needs_background": "light"
     },
     "output_type": "display_data"
    }
   ],
   "source": [
    "y_pred_test_dt_estimator = dt.predict(x_test)\n",
    "metrics_score(y_test, y_pred_test_dt_estimator)"
   ]
  },
  {
   "cell_type": "code",
   "execution_count": 50,
   "id": "3c835416",
   "metadata": {},
   "outputs": [
    {
     "data": {
      "text/plain": [
       "DecisionTreeClassifier(class_weight={0: 0.452, 1: 0.548}, max_depth=3,\n",
       "                       min_samples_leaf=10, random_state=1)"
      ]
     },
     "execution_count": 50,
     "metadata": {},
     "output_type": "execute_result"
    }
   ],
   "source": [
    "# Choose the type of classifier. \n",
    "dtree_estimator = DecisionTreeClassifier(class_weight={0:0.452,1:0.548}, random_state=1)\n",
    "\n",
    "# Grid of parameters to choose from\n",
    "parameters = {'max_depth': np.arange(2,7), \n",
    "              'criterion': ['gini', 'entropy'],\n",
    "              'min_samples_leaf': [5, 10, 20, 25]\n",
    "             }\n",
    "\n",
    "\n",
    "# Type of scoring used to compare parameter combinations\n",
    "scorer = metrics.make_scorer(recall_score, pos_label=1)\n",
    "# Run the grid search\n",
    "gridCV= GridSearchCV(dtree_estimator, parameters, scoring=scorer,cv=10)\n",
    "gridCV = gridCV.fit(x_train, y_train)\n",
    "\n",
    "# Set the clf to the best combination of parameters\n",
    "dtree_estimator = gridCV.best_estimator_\n",
    "\n",
    "# Fit the best algorithm to the data. \n",
    "dtree_estimator.fit(x_train, y_train)"
   ]
  },
  {
   "cell_type": "code",
   "execution_count": 51,
   "id": "474a6edf",
   "metadata": {
    "scrolled": false
   },
   "outputs": [
    {
     "name": "stdout",
     "output_type": "stream",
     "text": [
      "              precision    recall  f1-score   support\n",
      "\n",
      "           0       0.68      0.68      0.68        37\n",
      "           1       0.73      0.73      0.73        44\n",
      "\n",
      "    accuracy                           0.70        81\n",
      "   macro avg       0.70      0.70      0.70        81\n",
      "weighted avg       0.70      0.70      0.70        81\n",
      "\n"
     ]
    },
    {
     "data": {
      "image/png": "[encoded data removed]",
      "text/plain": [
       "<Figure size 576x360 with 2 Axes>"
      ]
     },
     "metadata": {
      "needs_background": "light"
     },
     "output_type": "display_data"
    }
   ],
   "source": [
    "y_train_pred_dt=dtree_estimator.predict(x_train)\n",
    "metrics_score(y_train,y_train_pred_dt)"
   ]
  },
  {
   "cell_type": "code",
   "execution_count": 52,
   "id": "c6a1992e",
   "metadata": {
    "scrolled": false
   },
   "outputs": [
    {
     "name": "stdout",
     "output_type": "stream",
     "text": [
      "              precision    recall  f1-score   support\n",
      "\n",
      "           0       0.38      0.40      0.39        20\n",
      "           1       0.50      0.48      0.49        25\n",
      "\n",
      "    accuracy                           0.44        45\n",
      "   macro avg       0.44      0.44      0.44        45\n",
      "weighted avg       0.45      0.44      0.45        45\n",
      "\n"
     ]
    },
    {
     "data": {
      "image/png": "[encoded data removed]",
      "text/plain": [
       "<Figure size 576x360 with 2 Axes>"
      ]
     },
     "metadata": {
      "needs_background": "light"
     },
     "output_type": "display_data"
    }
   ],
   "source": [
    "y_test_pred_dt=dtree_estimator.predict(x_test)\n",
    "metrics_score(y_test,y_test_pred_dt)"
   ]
  },
  {
   "cell_type": "markdown",
   "id": "e3254c91",
   "metadata": {
    "id": "0d67cebc"
   },
   "source": [
    "**Observations:**\n",
    "- Decision tree performed extremely very well on training set at **90% precision** **98% recall** but worse on test set which implies overfitting.  \n",
    "- Tuning did close the gap a little but still implies a little overfitting.  \n",
    "- On the test set, decision tree had **50% precision** and **48% recall**.  This could be a model to continue to look into to see if we could improve the scores. \n",
    "- Let's look at the last 2 algorithms and see if they will perform better.  "
   ]
  },
  {
   "cell_type": "markdown",
   "id": "f21dd84e",
   "metadata": {
    "id": "25142e0a"
   },
   "source": [
    "### Random Forest"
   ]
  },
  {
   "cell_type": "code",
   "execution_count": 53,
   "id": "72cfd35b",
   "metadata": {},
   "outputs": [
    {
     "data": {
      "text/plain": [
       "RandomForestClassifier(class_weight={0: 0.452, 1: 0.548}, random_state=1)"
      ]
     },
     "execution_count": 53,
     "metadata": {},
     "output_type": "execute_result"
    }
   ],
   "source": [
    "#Fitting the decision tree classifier on the training datarf_estimator\n",
    "rf_estimator = RandomForestClassifier(class_weight={0:0.452,1:0.548}, random_state=1)\n",
    "\n",
    "rf_estimator.fit(x_train,y_train)"
   ]
  },
  {
   "cell_type": "code",
   "execution_count": 54,
   "id": "a47cde84",
   "metadata": {},
   "outputs": [
    {
     "name": "stdout",
     "output_type": "stream",
     "text": [
      "              precision    recall  f1-score   support\n",
      "\n",
      "           0       0.94      0.89      0.92        37\n",
      "           1       0.91      0.95      0.93        44\n",
      "\n",
      "    accuracy                           0.93        81\n",
      "   macro avg       0.93      0.92      0.93        81\n",
      "weighted avg       0.93      0.93      0.93        81\n",
      "\n"
     ]
    },
    {
     "data": {
      "image/png": "[encoded data removed]",
      "text/plain": [
       "<Figure size 576x360 with 2 Axes>"
      ]
     },
     "metadata": {
      "needs_background": "light"
     },
     "output_type": "display_data"
    }
   ],
   "source": [
    "#Checking performance on the training data\n",
    "y_pred_train_rf = rf_estimator.predict(x_train)\n",
    "metrics_score(y_train, y_pred_train_rf)"
   ]
  },
  {
   "cell_type": "code",
   "execution_count": 55,
   "id": "d1e4a8cd",
   "metadata": {
    "scrolled": false
   },
   "outputs": [
    {
     "name": "stdout",
     "output_type": "stream",
     "text": [
      "              precision    recall  f1-score   support\n",
      "\n",
      "           0       0.53      0.80      0.64        20\n",
      "           1       0.73      0.44      0.55        25\n",
      "\n",
      "    accuracy                           0.60        45\n",
      "   macro avg       0.63      0.62      0.59        45\n",
      "weighted avg       0.64      0.60      0.59        45\n",
      "\n"
     ]
    },
    {
     "data": {
      "image/png": "[encoded data removed]",
      "text/plain": [
       "<Figure size 576x360 with 2 Axes>"
      ]
     },
     "metadata": {
      "needs_background": "light"
     },
     "output_type": "display_data"
    }
   ],
   "source": [
    "#Checking performance on the testing data\n",
    "y_pred_test_rf = rf_estimator.predict(x_test)\n",
    "metrics_score(y_test, y_pred_test_rf)"
   ]
  },
  {
   "cell_type": "markdown",
   "id": "b7f8e88b",
   "metadata": {
    "id": "25142e0a"
   },
   "source": [
    "### Tuning the Random Forest"
   ]
  },
  {
   "cell_type": "code",
   "execution_count": 56,
   "id": "47e85020",
   "metadata": {},
   "outputs": [],
   "source": [
    "# Choose the type of classifier. \n",
    "rf_estimator_tuned = RandomForestClassifier(class_weight={0:0.452,1:0.548}, random_state=1)\n",
    "\n",
    "# Grid of parameters to choose from\n",
    "## add from article\n",
    "params_rf = {  \n",
    "        \"n_estimators\": [100,250,500],\n",
    "        \"min_samples_leaf\": np.arange(1, 4,1),\n",
    "        \"max_features\": [0.7,0.9,'auto'],\n",
    "}\n",
    "\n",
    "\n",
    "# Type of scoring used to compare parameter combinations - recall score for class 1\n",
    "scorer = metrics.make_scorer(recall_score, pos_label=1)\n",
    "\n",
    "# Run the grid search\n",
    "grid_obj = GridSearchCV(rf_estimator_tuned, params_rf, scoring=scorer, cv=5)\n",
    "grid_obj = grid_obj.fit(x_train, y_train)\n",
    "\n",
    "# Set the clf to the best combination of parameters\n",
    "rf_estimator_tuned = grid_obj.best_estimator_"
   ]
  },
  {
   "cell_type": "code",
   "execution_count": 57,
   "id": "8c0967d7",
   "metadata": {},
   "outputs": [
    {
     "data": {
      "text/plain": [
       "RandomForestClassifier(class_weight={0: 0.452, 1: 0.548}, max_features=0.7,\n",
       "                       random_state=1)"
      ]
     },
     "execution_count": 57,
     "metadata": {},
     "output_type": "execute_result"
    }
   ],
   "source": [
    "rf_estimator_tuned.fit(x_train, y_train)"
   ]
  },
  {
   "cell_type": "code",
   "execution_count": 58,
   "id": "6b22f147",
   "metadata": {},
   "outputs": [
    {
     "name": "stdout",
     "output_type": "stream",
     "text": [
      "              precision    recall  f1-score   support\n",
      "\n",
      "           0       0.94      0.89      0.92        37\n",
      "           1       0.91      0.95      0.93        44\n",
      "\n",
      "    accuracy                           0.93        81\n",
      "   macro avg       0.93      0.92      0.93        81\n",
      "weighted avg       0.93      0.93      0.93        81\n",
      "\n"
     ]
    },
    {
     "data": {
      "image/png": "[encoded data removed]",
      "text/plain": [
       "<Figure size 576x360 with 2 Axes>"
      ]
     },
     "metadata": {
      "needs_background": "light"
     },
     "output_type": "display_data"
    }
   ],
   "source": [
    "#Checking performance on the training data\n",
    "y_pred_train_rf_tuned = rf_estimator_tuned.predict(x_train)\n",
    "metrics_score(y_train, y_pred_train_rf_tuned)"
   ]
  },
  {
   "cell_type": "code",
   "execution_count": 59,
   "id": "9e61ae4e",
   "metadata": {
    "scrolled": false
   },
   "outputs": [
    {
     "name": "stdout",
     "output_type": "stream",
     "text": [
      "              precision    recall  f1-score   support\n",
      "\n",
      "           0       0.48      0.75      0.59        20\n",
      "           1       0.64      0.36      0.46        25\n",
      "\n",
      "    accuracy                           0.53        45\n",
      "   macro avg       0.56      0.55      0.52        45\n",
      "weighted avg       0.57      0.53      0.52        45\n",
      "\n"
     ]
    },
    {
     "data": {
      "image/png": "[encoded data removed]",
      "text/plain": [
       "<Figure size 576x360 with 2 Axes>"
      ]
     },
     "metadata": {
      "needs_background": "light"
     },
     "output_type": "display_data"
    }
   ],
   "source": [
    "#Checking performance on the test data\n",
    "y_pred_test_rf_tuned = rf_estimator_tuned.predict(x_test)\n",
    "metrics_score(y_test, y_pred_test_rf_tuned)"
   ]
  },
  {
   "cell_type": "markdown",
   "id": "dfbcd2bb",
   "metadata": {
    "id": "0d67cebc"
   },
   "source": [
    "**Observations:**\n",
    "- **Random Forest**, just like decision tree performed extremely very well on training set at **90% precision** **98% recall** but worse on test set which implies overfitting.  \n",
    "- Tuning actually worsened the gap and still implies a overfitting.  \n",
    "- On the test set, random forest had **64% precision** and **36% recall**.  Not great. \n",
    "- Let's look at the last algorithm - XG Boost.  "
   ]
  },
  {
   "cell_type": "markdown",
   "id": "c85c48d1",
   "metadata": {
    "id": "25142e0a"
   },
   "source": [
    "### XG Boost"
   ]
  },
  {
   "cell_type": "code",
   "execution_count": 60,
   "id": "9635bca3",
   "metadata": {
    "scrolled": false
   },
   "outputs": [
    {
     "name": "stdout",
     "output_type": "stream",
     "text": [
      "[10:16:58] WARNING: C:/Users/Administrator/workspace/xgboost-win64_release_1.4.0/src/learner.cc:1095: Starting in XGBoost 1.3.0, the default evaluation metric used with the objective 'binary:logistic' was changed from 'error' to 'logloss'. Explicitly set eval_metric if you'd like to restore the old behavior.\n"
     ]
    },
    {
     "data": {
      "text/plain": [
       "XGBClassifier(base_score=0.5, booster='gbtree', colsample_bylevel=1,\n",
       "              colsample_bynode=1, colsample_bytree=1, gamma=0, gpu_id=-1,\n",
       "              importance_type='gain', interaction_constraints='',\n",
       "              learning_rate=0.300000012, max_delta_step=0, max_depth=6,\n",
       "              min_child_weight=1, missing=nan, monotone_constraints='()',\n",
       "              n_estimators=100, n_jobs=8, num_parallel_tree=1, random_state=0,\n",
       "              reg_alpha=0, reg_lambda=1, scale_pos_weight=1, subsample=1,\n",
       "              tree_method='exact', use_label_encoder=False,\n",
       "              validate_parameters=1, verbosity=None)"
      ]
     },
     "execution_count": 60,
     "metadata": {},
     "output_type": "execute_result"
    }
   ],
   "source": [
    "xgb_classifier = XGBClassifier(use_label_encoder=False)\n",
    "xgb_classifier.fit(x_train, y_train)"
   ]
  },
  {
   "cell_type": "code",
   "execution_count": 61,
   "id": "550ef0cd",
   "metadata": {
    "scrolled": false
   },
   "outputs": [
    {
     "name": "stdout",
     "output_type": "stream",
     "text": [
      "              precision    recall  f1-score   support\n",
      "\n",
      "           0       0.90      0.95      0.92        37\n",
      "           1       0.95      0.91      0.93        44\n",
      "\n",
      "    accuracy                           0.93        81\n",
      "   macro avg       0.92      0.93      0.93        81\n",
      "weighted avg       0.93      0.93      0.93        81\n",
      "\n"
     ]
    },
    {
     "data": {
      "image/png": "[encoded data removed]",
      "text/plain": [
       "<Figure size 576x360 with 2 Axes>"
      ]
     },
     "metadata": {
      "needs_background": "light"
     },
     "output_type": "display_data"
    }
   ],
   "source": [
    "y_pred_train_xgb_estimator = xgb_classifier.predict(x_train)\n",
    "metrics_score(y_train, y_pred_train_xgb_estimator)"
   ]
  },
  {
   "cell_type": "code",
   "execution_count": 62,
   "id": "ced85339",
   "metadata": {
    "scrolled": false
   },
   "outputs": [
    {
     "name": "stdout",
     "output_type": "stream",
     "text": [
      "              precision    recall  f1-score   support\n",
      "\n",
      "           0       0.47      0.70      0.56        20\n",
      "           1       0.60      0.36      0.45        25\n",
      "\n",
      "    accuracy                           0.51        45\n",
      "   macro avg       0.53      0.53      0.51        45\n",
      "weighted avg       0.54      0.51      0.50        45\n",
      "\n"
     ]
    },
    {
     "data": {
      "image/png": "[encoded data removed]",
      "text/plain": [
       "<Figure size 576x360 with 2 Axes>"
      ]
     },
     "metadata": {
      "needs_background": "light"
     },
     "output_type": "display_data"
    }
   ],
   "source": [
    "y_pred_test_xgb_estimator = xgb_classifier.predict(x_test)\n",
    "metrics_score(y_test, y_pred_test_xgb_estimator)"
   ]
  },
  {
   "cell_type": "code",
   "execution_count": 63,
   "id": "891f023e",
   "metadata": {},
   "outputs": [
    {
     "name": "stdout",
     "output_type": "stream",
     "text": [
      "Fitting 10 folds for each of 2000 candidates, totalling 20000 fits\n",
      "[10:22:46] WARNING: C:/Users/Administrator/workspace/xgboost-win64_release_1.4.0/src/learner.cc:1095: Starting in XGBoost 1.3.0, the default evaluation metric used with the objective 'binary:logistic' was changed from 'error' to 'logloss'. Explicitly set eval_metric if you'd like to restore the old behavior.\n"
     ]
    },
    {
     "data": {
      "text/plain": [
       "GridSearchCV(cv=10,\n",
       "             estimator=XGBClassifier(base_score=0.5, booster='gbtree',\n",
       "                                     colsample_bylevel=1, colsample_bynode=1,\n",
       "                                     colsample_bytree=1, gamma=0, gpu_id=-1,\n",
       "                                     importance_type='gain',\n",
       "                                     interaction_constraints='',\n",
       "                                     learning_rate=0.300000012,\n",
       "                                     max_delta_step=0, max_depth=6,\n",
       "                                     min_child_weight=1, missing=nan,\n",
       "                                     monotone_constraints='()',\n",
       "                                     n_estimators=100, n_jobs=8,\n",
       "                                     num_paralle...1, random_state=0,\n",
       "                                     reg_alpha=0, reg_lambda=1,\n",
       "                                     scale_pos_weight=1, subsample=1,\n",
       "                                     tree_method='exact',\n",
       "                                     use_label_encoder=False,\n",
       "                                     validate_parameters=1, verbosity=None),\n",
       "             n_jobs=-1,\n",
       "             param_grid={'colsample_bytree': [0.3, 0.4, 0.5, 0.7],\n",
       "                         'gamma': [0.0, 0.1, 0.2, 0.3, 0.4],\n",
       "                         'learning_rate': [0.05, 0.1, 0.15, 0.2],\n",
       "                         'max_depth': range(1, 10, 2),\n",
       "                         'min_child_weight': range(1, 10, 2)},\n",
       "             verbose=1)"
      ]
     },
     "execution_count": 63,
     "metadata": {},
     "output_type": "execute_result"
    }
   ],
   "source": [
    "xgb_param_dict = {\n",
    "    'learning_rate':[0.05, 0.10, 0.15, 0.20],\n",
    "    'max_depth':range(1,10,2),\n",
    "    'min_child_weight':range(1,10,2),\n",
    "    'gamma':[ 0.0, 0.1, 0.2 , 0.3, 0.4 ],\n",
    "    'colsample_bytree':[ 0.3, 0.4, 0.5 , 0.7 ]\n",
    "    \n",
    "}\n",
    "\n",
    "xgb = GridSearchCV(xgb_classifier, \n",
    "                    param_grid=xgb_param_dict,\n",
    "                    cv=10,\n",
    "                    verbose=1,\n",
    "                    n_jobs=-1)\n",
    "\n",
    "xgb.fit(x_train, y_train)"
   ]
  },
  {
   "cell_type": "code",
   "execution_count": 64,
   "id": "ee6921fd",
   "metadata": {
    "scrolled": false
   },
   "outputs": [
    {
     "data": {
      "text/plain": [
       "{'colsample_bytree': 0.5,\n",
       " 'gamma': 0.1,\n",
       " 'learning_rate': 0.15,\n",
       " 'max_depth': 3,\n",
       " 'min_child_weight': 1}"
      ]
     },
     "execution_count": 64,
     "metadata": {},
     "output_type": "execute_result"
    }
   ],
   "source": [
    "xgb.best_params_"
   ]
  },
  {
   "cell_type": "code",
   "execution_count": 65,
   "id": "178edfe6",
   "metadata": {},
   "outputs": [],
   "source": [
    "# Set the clf to the best combination of parameters\n",
    "xgb_estimator_tuned = xgb.best_estimator_"
   ]
  },
  {
   "cell_type": "code",
   "execution_count": 66,
   "id": "58d77f0c",
   "metadata": {},
   "outputs": [
    {
     "name": "stdout",
     "output_type": "stream",
     "text": [
      "[10:22:46] WARNING: C:/Users/Administrator/workspace/xgboost-win64_release_1.4.0/src/learner.cc:1095: Starting in XGBoost 1.3.0, the default evaluation metric used with the objective 'binary:logistic' was changed from 'error' to 'logloss'. Explicitly set eval_metric if you'd like to restore the old behavior.\n"
     ]
    },
    {
     "data": {
      "text/plain": [
       "XGBClassifier(base_score=0.5, booster='gbtree', colsample_bylevel=1,\n",
       "              colsample_bynode=1, colsample_bytree=0.5, gamma=0.1, gpu_id=-1,\n",
       "              importance_type='gain', interaction_constraints='',\n",
       "              learning_rate=0.15, max_delta_step=0, max_depth=3,\n",
       "              min_child_weight=1, missing=nan, monotone_constraints='()',\n",
       "              n_estimators=100, n_jobs=8, num_parallel_tree=1, random_state=0,\n",
       "              reg_alpha=0, reg_lambda=1, scale_pos_weight=1, subsample=1,\n",
       "              tree_method='exact', use_label_encoder=False,\n",
       "              validate_parameters=1, verbosity=None)"
      ]
     },
     "execution_count": 66,
     "metadata": {},
     "output_type": "execute_result"
    }
   ],
   "source": [
    "xgb_estimator_tuned.fit(x_train, y_train)"
   ]
  },
  {
   "cell_type": "code",
   "execution_count": 67,
   "id": "f4f13dd2",
   "metadata": {},
   "outputs": [
    {
     "name": "stdout",
     "output_type": "stream",
     "text": [
      "              precision    recall  f1-score   support\n",
      "\n",
      "           0       0.88      0.81      0.85        37\n",
      "           1       0.85      0.91      0.88        44\n",
      "\n",
      "    accuracy                           0.86        81\n",
      "   macro avg       0.87      0.86      0.86        81\n",
      "weighted avg       0.87      0.86      0.86        81\n",
      "\n"
     ]
    },
    {
     "data": {
      "image/png": "[encoded data removed]",
      "text/plain": [
       "<Figure size 576x360 with 2 Axes>"
      ]
     },
     "metadata": {
      "needs_background": "light"
     },
     "output_type": "display_data"
    }
   ],
   "source": [
    "#Checking performance on the training data\n",
    "y_pred_train_xgb_tuned = xgb_estimator_tuned.predict(x_train)\n",
    "metrics_score(y_train, y_pred_train_xgb_tuned)"
   ]
  },
  {
   "cell_type": "code",
   "execution_count": 68,
   "id": "14f91176",
   "metadata": {
    "scrolled": false
   },
   "outputs": [
    {
     "name": "stdout",
     "output_type": "stream",
     "text": [
      "              precision    recall  f1-score   support\n",
      "\n",
      "           0       0.48      0.65      0.55        20\n",
      "           1       0.61      0.44      0.51        25\n",
      "\n",
      "    accuracy                           0.53        45\n",
      "   macro avg       0.55      0.55      0.53        45\n",
      "weighted avg       0.55      0.53      0.53        45\n",
      "\n"
     ]
    },
    {
     "data": {
      "image/png": "[encoded data removed]",
      "text/plain": [
       "<Figure size 576x360 with 2 Axes>"
      ]
     },
     "metadata": {
      "needs_background": "light"
     },
     "output_type": "display_data"
    }
   ],
   "source": [
    "#Checking performance on the test data\n",
    "y_pred_test_xgb_tuned = xgb_estimator_tuned.predict(x_test)\n",
    "metrics_score(y_test, y_pred_test_xgb_tuned)"
   ]
  },
  {
   "cell_type": "markdown",
   "id": "a72f1c87",
   "metadata": {
    "id": "0d67cebc"
   },
   "source": [
    "**Observations:**\n",
    "- **XG Boost**, just like decision tree and random forest performed extremely very well on training set at **95% precision** **91% recall** but worse on test set which implies overfitting.  \n",
    "- Tuning did not close the gap much and still implies a overfitting.  \n",
    "- On the test set, XG Boost had **61% precision** and **44% recall**.  Not great either."
   ]
  },
  {
   "cell_type": "markdown",
   "id": "4663b361",
   "metadata": {
    "id": "4663b361"
   },
   "source": [
    "### Conclusion and Recommendations "
   ]
  },
  {
   "cell_type": "markdown",
   "id": "a2cb3e9a",
   "metadata": {
    "id": "a2cb3e9a"
   },
   "source": [
    "**Conclusions:**\n",
    "\n",
    "- We have tried multiple models and were **able to identify the key factors involved with customer happiness** with the organization.\n",
    "- The final model - **a hyperparameter-tuned QDA model**, is overfitting on the training dataset but **gives the highest scores on the testing data at 66% precision and 76% recall**.  It may be possible to further try and tune the model, and the company can use this model to predict whether a customer is happy or not.\n",
    "- We only have 126 observations and it may be that more data would improve the model significantly."
   ]
  },
  {
   "cell_type": "markdown",
   "id": "a3f2c62d",
   "metadata": {
    "id": "a3f2c62d"
   },
   "source": [
    "**Recommendations:**\n",
    "\n",
    "- We saw that **courier performance is the most important driver of customer satisfaction.** The organization should focus on identifying courier performance metrics to see if there are ways to improve the service to customers.  \n",
    "- Related to this is **delivery on time**.  The company might improve both by looking into making delivery/courier service more streamline to insure customers get their packages on time.  \n",
    "- This could mean **hiring more couriers** or **have more central distribution or package processing centers** so that it's easier for couriers to get packages to customers.  "
   ]
  }
 ],
 "metadata": {
  "colab": {
   "collapsed_sections": [
    "d6700f10",
    "91a960cf",
    "f367a777",
    "38857a84"
   ],
   "name": "Employee Attrition (1).ipynb",
   "provenance": []
  },
  "kernelspec": {
   "display_name": "Python 3",
   "language": "python",
   "name": "python3"
  },
  "language_info": {
   "codemirror_mode": {
    "name": "ipython",
    "version": 3
   },
   "file_extension": ".py",
   "mimetype": "text/x-python",
   "name": "python",
   "nbconvert_exporter": "python",
   "pygments_lexer": "ipython3",
   "version": "3.8.8"
  }
 },
 "nbformat": 4,
 "nbformat_minor": 5
}
