{
 "cells": [
  {
   "cell_type": "markdown",
   "id": "62852793",
   "metadata": {},
   "source": [
    "## Potential Talent\n",
    "\n",
    "### **Context:**\n",
    "\n",
    "As a **talent sourcing and management company**, we are interested in **finding talented individuals** for sourcing these candidates to technology companies. **Finding talented candidates is not easy**, for **several reasons**. The **first** reason is one needs to understand what the role is very well to fill in that spot, this requires understanding the client’s needs and what they are looking for in a potential candidate. The **second** reason is one needs to understand what makes a candidate shine for the role we are in search for. **Third**, where to find talented individuals is another challenge.\n",
    "\n",
    "The nature of our job requires a lot of human labor and is full of **manual operations**. Towards **automating this process** we want to build a better approach that could save us time and finally help us spot potential candidates that could fit the roles we are in search for. Moreover, going beyond that for a specific role we want to fill in we are interested in developing a machine learning powered pipeline that could spot talented individuals, and rank them based on their fitness.\n",
    "\n",
    "We are right now semi-automatically sourcing a few candidates, therefore the sourcing part is not a concern at this time but we expect to first determine best matching candidates based on how fit these candidates are for a given role. We generally make these searches based on some keywords such as “full-stack software engineer”, “engineering manager” or “aspiring human resources” based on the role we are trying to fill in. These keywords might change, and you can expect that specific keywords will be provided to you.\n",
    "\n",
    "Assuming that we were able to list and rank fitting candidates, we then employ a review procedure, as each candidate needs to be reviewed and then determined how good a fit they are through manual inspection. This procedure is done manually and at the end of this manual review, we might choose not the first fitting candidate in the list but maybe the 7th candidate in the list. If that happens, we are interested in being able to re-rank the previous list based on this information. This supervisory signal is going to be supplied by starring the 7th candidate in the list. Starring one candidate actually sets this candidate as an ideal candidate for the given role. Then, we expect the list to be re-ranked each time a candidate is starred.\n",
    "\n",
    "#### Data Description:\n",
    "\n",
    "The data comes from our sourcing efforts. We removed any field that could directly reveal personal details and gave a unique identifier for each candidate.\n",
    "\n",
    "#### Attributes:\n",
    "**id** : unique identifier for candidate (numeric)\n",
    "\n",
    "**job_title** : job title for candidate (text)\n",
    "\n",
    "**location** : geographical location for candidate (text)\n",
    "\n",
    "**connections** : number of connections candidate has, 500+ means over 500 (text)\n",
    "\n",
    "**Output (desired target)**:\n",
    "fit - how fit the candidate is for the role? (numeric, probability between 0-1)\n",
    "\n",
    "Keywords: “Aspiring human resources” or “seeking human resources”\n",
    "\n",
    "#### Download Data:\n",
    "\n",
    "https://docs.google.com/spreadsheets/d/117X6i53dKiO7w6kuA1g1TpdTlv1173h_dPlJt5cNNMU/edit?usp=sharing\n",
    "\n",
    "#### Goal(s):\n",
    "\n",
    "Predict how fit the candidate is based on their available information (variable fit)\n",
    "\n",
    "Success Metric(s):\n",
    "\n",
    "Rank candidates based on a fitness score.\n",
    "\n",
    "Re-rank candidates when a candidate is starred.\n",
    "\n",
    "#### Bonus(es):\n",
    "\n",
    "We are interested in a robust algorithm, tell us how your solution works and show us how your ranking gets better with each starring action.\n",
    "\n",
    "How can we filter out candidates which in the first place should not be in this list?\n",
    "\n",
    "Can we determine a cut-off point that would work for other roles without losing high potential candidates?\n",
    "\n",
    "Do you have any ideas that we should explore so that we can even automate this procedure to prevent human bias?"
   ]
  },
  {
   "cell_type": "code",
   "execution_count": 201,
   "id": "6a13ab11",
   "metadata": {},
   "outputs": [
    {
     "name": "stdout",
     "output_type": "stream",
     "text": [
      "Requirement already satisfied: scikit-learn in c:\\users\\kre8t\\anaconda3\\envs\\potential talents\\lib\\site-packages (1.0.2)\n",
      "Requirement already satisfied: scipy>=1.1.0 in c:\\users\\kre8t\\anaconda3\\envs\\potential talents\\lib\\site-packages (from scikit-learn) (1.7.2)\n",
      "Requirement already satisfied: numpy>=1.14.6 in c:\\users\\kre8t\\anaconda3\\envs\\potential talents\\lib\\site-packages (from scikit-learn) (1.21.4)\n",
      "Requirement already satisfied: threadpoolctl>=2.0.0 in c:\\users\\kre8t\\anaconda3\\envs\\potential talents\\lib\\site-packages (from scikit-learn) (3.0.0)\n",
      "Requirement already satisfied: joblib>=0.11 in c:\\users\\kre8t\\anaconda3\\envs\\potential talents\\lib\\site-packages (from scikit-learn) (1.1.0)\n"
     ]
    }
   ],
   "source": [
    "!pip install -U scikit-learn"
   ]
  },
  {
   "cell_type": "code",
   "execution_count": 202,
   "id": "c013a16d",
   "metadata": {},
   "outputs": [],
   "source": [
    "# Importing Standard Libraries\n",
    "import pandas as pd\n",
    "import numpy as np\n",
    "\n",
    "from sklearn.metrics.pairwise import linear_kernel\n",
    "pd.options.display.max_columns = 30"
   ]
  },
  {
   "cell_type": "markdown",
   "id": "2272c7de",
   "metadata": {},
   "source": [
    "## 1. Reading in and Exploring Our Data "
   ]
  },
  {
   "cell_type": "code",
   "execution_count": 203,
   "id": "c7419cad",
   "metadata": {
    "scrolled": false
   },
   "outputs": [
    {
     "data": {
      "text/html": [
       "<div>\n",
       "<style scoped>\n",
       "    .dataframe tbody tr th:only-of-type {\n",
       "        vertical-align: middle;\n",
       "    }\n",
       "\n",
       "    .dataframe tbody tr th {\n",
       "        vertical-align: top;\n",
       "    }\n",
       "\n",
       "    .dataframe thead th {\n",
       "        text-align: right;\n",
       "    }\n",
       "</style>\n",
       "<table border=\"1\" class=\"dataframe\">\n",
       "  <thead>\n",
       "    <tr style=\"text-align: right;\">\n",
       "      <th></th>\n",
       "      <th>job_title</th>\n",
       "      <th>location</th>\n",
       "      <th>connection</th>\n",
       "      <th>fit</th>\n",
       "    </tr>\n",
       "    <tr>\n",
       "      <th>id</th>\n",
       "      <th></th>\n",
       "      <th></th>\n",
       "      <th></th>\n",
       "      <th></th>\n",
       "    </tr>\n",
       "  </thead>\n",
       "  <tbody>\n",
       "    <tr>\n",
       "      <th>1</th>\n",
       "      <td>2019 C.T. Bauer College of Business Graduate (...</td>\n",
       "      <td>Houston, Texas</td>\n",
       "      <td>85</td>\n",
       "      <td>NaN</td>\n",
       "    </tr>\n",
       "    <tr>\n",
       "      <th>2</th>\n",
       "      <td>Native English Teacher at EPIK (English Progra...</td>\n",
       "      <td>Kanada</td>\n",
       "      <td>500+</td>\n",
       "      <td>NaN</td>\n",
       "    </tr>\n",
       "    <tr>\n",
       "      <th>3</th>\n",
       "      <td>Aspiring Human Resources Professional</td>\n",
       "      <td>Raleigh-Durham, North Carolina Area</td>\n",
       "      <td>44</td>\n",
       "      <td>NaN</td>\n",
       "    </tr>\n",
       "    <tr>\n",
       "      <th>4</th>\n",
       "      <td>People Development Coordinator at Ryan</td>\n",
       "      <td>Denton, Texas</td>\n",
       "      <td>500+</td>\n",
       "      <td>NaN</td>\n",
       "    </tr>\n",
       "    <tr>\n",
       "      <th>5</th>\n",
       "      <td>Advisory Board Member at Celal Bayar University</td>\n",
       "      <td>İzmir, Türkiye</td>\n",
       "      <td>500+</td>\n",
       "      <td>NaN</td>\n",
       "    </tr>\n",
       "  </tbody>\n",
       "</table>\n",
       "</div>"
      ],
      "text/plain": [
       "                                            job_title  \\\n",
       "id                                                      \n",
       "1   2019 C.T. Bauer College of Business Graduate (...   \n",
       "2   Native English Teacher at EPIK (English Progra...   \n",
       "3               Aspiring Human Resources Professional   \n",
       "4              People Development Coordinator at Ryan   \n",
       "5     Advisory Board Member at Celal Bayar University   \n",
       "\n",
       "                               location connection  fit  \n",
       "id                                                       \n",
       "1                        Houston, Texas         85  NaN  \n",
       "2                                Kanada      500+   NaN  \n",
       "3   Raleigh-Durham, North Carolina Area         44  NaN  \n",
       "4                         Denton, Texas      500+   NaN  \n",
       "5                        İzmir, Türkiye      500+   NaN  "
      ]
     },
     "execution_count": 203,
     "metadata": {},
     "output_type": "execute_result"
    }
   ],
   "source": [
    "df = pd.read_csv('potential-talents - Aspiring human resources - seeking human resources.csv').set_index('id')\n",
    "df.head()"
   ]
  },
  {
   "cell_type": "code",
   "execution_count": 204,
   "id": "3b4e724a",
   "metadata": {},
   "outputs": [
    {
     "name": "stdout",
     "output_type": "stream",
     "text": [
      "<class 'pandas.core.frame.DataFrame'>\n",
      "Int64Index: 104 entries, 1 to 104\n",
      "Data columns (total 4 columns):\n",
      " #   Column      Non-Null Count  Dtype  \n",
      "---  ------      --------------  -----  \n",
      " 0   job_title   104 non-null    object \n",
      " 1   location    104 non-null    object \n",
      " 2   connection  104 non-null    object \n",
      " 3   fit         0 non-null      float64\n",
      "dtypes: float64(1), object(3)\n",
      "memory usage: 4.1+ KB\n"
     ]
    }
   ],
   "source": [
    "df.info()"
   ]
  },
  {
   "cell_type": "code",
   "execution_count": 205,
   "id": "121f9a41",
   "metadata": {},
   "outputs": [],
   "source": [
    "df.replace('500+ ','501', inplace=True)"
   ]
  },
  {
   "cell_type": "code",
   "execution_count": 206,
   "id": "b8808914",
   "metadata": {},
   "outputs": [],
   "source": [
    "df['connection'] = pd.to_numeric(df['connection'])"
   ]
  },
  {
   "cell_type": "code",
   "execution_count": 207,
   "id": "2135989c",
   "metadata": {
    "scrolled": false
   },
   "outputs": [
    {
     "data": {
      "text/plain": [
       "2019 C.T. Bauer College of Business Graduate (Magna Cum Laude) and aspiring Human Resources professional                 7\n",
       "Aspiring Human Resources Professional                                                                                    7\n",
       "Student at Humber College and Aspiring Human Resources Generalist                                                        7\n",
       "People Development Coordinator at Ryan                                                                                   6\n",
       "Aspiring Human Resources Specialist                                                                                      5\n",
       "Native English Teacher at EPIK (English Program in Korea)                                                                5\n",
       "HR Senior Specialist                                                                                                     5\n",
       "Seeking Human Resources HRIS and Generalist Positions                                                                    4\n",
       "SVP, CHRO, Marketing & Communications, CSR Officer | ENGIE | Houston | The Woodlands | Energy | GPHR | SPHR              4\n",
       "Student at Chapman University                                                                                            4\n",
       "Human Resources Coordinator at InterContinental Buckhead Atlanta                                                         4\n",
       "Advisory Board Member at Celal Bayar University                                                                          4\n",
       "Seeking Human Resources Opportunities                                                                                    2\n",
       "Aspiring Human Resources Management student seeking an internship                                                        2\n",
       "Senior Human Resources Business Partner at Heil Environmental                                                            1\n",
       "Lead Official at Western Illinois University                                                                             1\n",
       "Seeking Human Resources Position                                                                                         1\n",
       "Director Human Resources  at EY                                                                                          1\n",
       "Retired Army National Guard Recruiter, office manager,  seeking a position in Human Resources.                           1\n",
       "Information Systems Specialist and Programmer with a love for data and organization.                                     1\n",
       "HR Manager at Endemol Shine North America                                                                                1\n",
       "Student at Indiana University Kokomo - Business Management - \\nRetail Manager at Delphi Hardware and Paint               1\n",
       "Bachelor of Science in Biology from Victoria University of Wellington                                                    1\n",
       "Director of Human Resources North America, Groupe Beneteau                                                               1\n",
       "Aspiring Human Resources Professional | An energetic and Team-Focused Leader                                             1\n",
       "Human Resources|\\nConflict Management|\\nPolicies & Procedures|Talent Management|Benefits & Compensation                  1\n",
       "Nortia Staffing is seeking Human Resources, Payroll & Administrative Professionals!!  (408) 709-2621                     1\n",
       "Seeking Human  Resources Opportunities. Open to travel and relocation.                                                   1\n",
       "Business Management Major and Aspiring Human Resources Manager                                                           1\n",
       "Experienced Retail Manager and aspiring Human Resources Professional                                                     1\n",
       "Junior MES Engineer| Information Systems                                                                                 1\n",
       "Human Resources Professional                                                                                             1\n",
       "Aspiring Human Resources Manager, seeking internship in Human Resources.                                                 1\n",
       "Human Resources Specialist at Luxottica                                                                                  1\n",
       "Director Of Administration at Excellence Logging                                                                         1\n",
       "Aspiring Human Resources Manager | Graduating May 2020 | Seeking an Entry-Level Human Resources Position in St. Louis    1\n",
       "Human Resources Generalist at Schwan's                                                                                   1\n",
       "Undergraduate Research Assistant at Styczynski Lab                                                                       1\n",
       "RRP Brand Portfolio Executive at JTI (Japan Tobacco International)                                                       1\n",
       "Business Intelligence and Analytics at Travelers                                                                         1\n",
       "Aspiring Human Resources Professional | Passionate about helping to create an inclusive and engaging work environment    1\n",
       "Admissions Representative at Community medical center long beach                                                         1\n",
       "Human Resources Generalist at ScottMadden, Inc.                                                                          1\n",
       "Human Resources professional for the world leader in GIS software                                                        1\n",
       "Always set them up for Success                                                                                           1\n",
       "Human Resources Management Major                                                                                         1\n",
       "Liberal Arts Major. Aspiring Human Resources Analyst.                                                                    1\n",
       "Seeking employment opportunities within Customer Service or Patient Care                                                 1\n",
       "Human Resources Generalist at Loparex                                                                                    1\n",
       "Student at Westfield State University                                                                                    1\n",
       "Human Resources, Staffing and Recruiting Professional                                                                    1\n",
       "Student                                                                                                                  1\n",
       "Name: job_title, dtype: int64"
      ]
     },
     "execution_count": 207,
     "metadata": {},
     "output_type": "execute_result"
    }
   ],
   "source": [
    "df.job_title.value_counts()"
   ]
  },
  {
   "cell_type": "code",
   "execution_count": 208,
   "id": "19bb99a5",
   "metadata": {},
   "outputs": [
    {
     "data": {
      "text/plain": [
       "'2019 C.T. Bauer College of Business Graduate (Magna Cum Laude) and aspiring Human Resources professional'"
      ]
     },
     "execution_count": 208,
     "metadata": {},
     "output_type": "execute_result"
    }
   ],
   "source": [
    "df.job_title.iloc[0]"
   ]
  },
  {
   "cell_type": "code",
   "execution_count": 209,
   "id": "5dbd6d87",
   "metadata": {},
   "outputs": [],
   "source": [
    "df = df.drop_duplicates()"
   ]
  },
  {
   "cell_type": "code",
   "execution_count": 210,
   "id": "3f0f1cd9",
   "metadata": {
    "scrolled": true
   },
   "outputs": [
    {
     "name": "stdout",
     "output_type": "stream",
     "text": [
      "<class 'pandas.core.frame.DataFrame'>\n",
      "Int64Index: 53 entries, 1 to 104\n",
      "Data columns (total 4 columns):\n",
      " #   Column      Non-Null Count  Dtype  \n",
      "---  ------      --------------  -----  \n",
      " 0   job_title   53 non-null     object \n",
      " 1   location    53 non-null     object \n",
      " 2   connection  53 non-null     int64  \n",
      " 3   fit         0 non-null      float64\n",
      "dtypes: float64(1), int64(1), object(2)\n",
      "memory usage: 2.1+ KB\n"
     ]
    }
   ],
   "source": [
    "df.info()"
   ]
  },
  {
   "cell_type": "markdown",
   "id": "24fb042a",
   "metadata": {},
   "source": [
    "### Prepping our Text for Modelling"
   ]
  },
  {
   "cell_type": "code",
   "execution_count": 211,
   "id": "163e0dea",
   "metadata": {},
   "outputs": [],
   "source": [
    "from sklearn.feature_extraction.text import TfidfVectorizer\n",
    "from sklearn.metrics.pairwise import cosine_similarity\n",
    "\n",
    "# Prep our Text for Modelling\n",
    "vectorizer = TfidfVectorizer(stop_words='english', ngram_range = (1, 2))\n",
    "docs_tfidf = vectorizer.fit_transform(df[\"job_title\"])"
   ]
  },
  {
   "cell_type": "code",
   "execution_count": null,
   "id": "e10d5423",
   "metadata": {},
   "outputs": [],
   "source": []
  },
  {
   "cell_type": "code",
   "execution_count": 212,
   "id": "2fbb8e09",
   "metadata": {},
   "outputs": [],
   "source": [
    "def get_tf_idf_query_similarity(vectorizer, docs_tfidf, query):\n",
    "    \"\"\"\n",
    "    vectorizer: TfIdfVectorizer model\n",
    "    docs_tfidf: tfidf vectors for all docs\n",
    "    query: query doc\n",
    "\n",
    "    return: cosine similarity between query and all docs\n",
    "    \"\"\"\n",
    "    query_tfidf = vectorizer.transform([query])\n",
    "    cos_sim = cosine_similarity(query_tfidf, docs_tfidf).flatten()\n",
    "    \n",
    "    return cos_sim"
   ]
  },
  {
   "cell_type": "code",
   "execution_count": 213,
   "id": "02c4d24b",
   "metadata": {
    "scrolled": false
   },
   "outputs": [],
   "source": [
    "query = 'Aspiring human resources'\n",
    "\n",
    "cos_sim = get_tf_idf_query_similarity(vectorizer, docs_tfidf, query = query)\n",
    "\n",
    "df['fit'] = cos_sim"
   ]
  },
  {
   "cell_type": "code",
   "execution_count": 214,
   "id": "34f0da81",
   "metadata": {},
   "outputs": [],
   "source": [
    "def top_candidates(n, by = 'fit', ascending = False, min_con = 0, location = df.location):\n",
    "    \n",
    "    df2 = df.loc[(df.connection >= min_con) & (df.location == location)].sort_values(by = by, ascending = ascending).head(n).copy()\n",
    "    \n",
    "    return df2"
   ]
  },
  {
   "cell_type": "code",
   "execution_count": 215,
   "id": "ae4c506a",
   "metadata": {
    "scrolled": true
   },
   "outputs": [
    {
     "data": {
      "text/html": [
       "<div>\n",
       "<style scoped>\n",
       "    .dataframe tbody tr th:only-of-type {\n",
       "        vertical-align: middle;\n",
       "    }\n",
       "\n",
       "    .dataframe tbody tr th {\n",
       "        vertical-align: top;\n",
       "    }\n",
       "\n",
       "    .dataframe thead th {\n",
       "        text-align: right;\n",
       "    }\n",
       "</style>\n",
       "<table border=\"1\" class=\"dataframe\">\n",
       "  <thead>\n",
       "    <tr style=\"text-align: right;\">\n",
       "      <th></th>\n",
       "      <th>job_title</th>\n",
       "      <th>location</th>\n",
       "      <th>connection</th>\n",
       "      <th>fit</th>\n",
       "    </tr>\n",
       "    <tr>\n",
       "      <th>id</th>\n",
       "      <th></th>\n",
       "      <th></th>\n",
       "      <th></th>\n",
       "      <th></th>\n",
       "    </tr>\n",
       "  </thead>\n",
       "  <tbody>\n",
       "    <tr>\n",
       "      <th>3</th>\n",
       "      <td>Aspiring Human Resources Professional</td>\n",
       "      <td>Raleigh-Durham, North Carolina Area</td>\n",
       "      <td>44</td>\n",
       "      <td>0.735855</td>\n",
       "    </tr>\n",
       "    <tr>\n",
       "      <th>97</th>\n",
       "      <td>Aspiring Human Resources Professional</td>\n",
       "      <td>Kokomo, Indiana Area</td>\n",
       "      <td>71</td>\n",
       "      <td>0.735855</td>\n",
       "    </tr>\n",
       "    <tr>\n",
       "      <th>6</th>\n",
       "      <td>Aspiring Human Resources Specialist</td>\n",
       "      <td>Greater New York City Area</td>\n",
       "      <td>1</td>\n",
       "      <td>0.632697</td>\n",
       "    </tr>\n",
       "    <tr>\n",
       "      <th>73</th>\n",
       "      <td>Aspiring Human Resources Manager, seeking inte...</td>\n",
       "      <td>Houston, Texas Area</td>\n",
       "      <td>7</td>\n",
       "      <td>0.508880</td>\n",
       "    </tr>\n",
       "    <tr>\n",
       "      <th>72</th>\n",
       "      <td>Business Management Major and Aspiring Human R...</td>\n",
       "      <td>Monroe, Louisiana Area</td>\n",
       "      <td>5</td>\n",
       "      <td>0.387590</td>\n",
       "    </tr>\n",
       "    <tr>\n",
       "      <th>27</th>\n",
       "      <td>Aspiring Human Resources Management student se...</td>\n",
       "      <td>Houston, Texas Area</td>\n",
       "      <td>501</td>\n",
       "      <td>0.374733</td>\n",
       "    </tr>\n",
       "    <tr>\n",
       "      <th>66</th>\n",
       "      <td>Experienced Retail Manager and aspiring Human ...</td>\n",
       "      <td>Austin, Texas Area</td>\n",
       "      <td>57</td>\n",
       "      <td>0.373847</td>\n",
       "    </tr>\n",
       "    <tr>\n",
       "      <th>7</th>\n",
       "      <td>Student at Humber College and Aspiring Human R...</td>\n",
       "      <td>Kanada</td>\n",
       "      <td>61</td>\n",
       "      <td>0.358949</td>\n",
       "    </tr>\n",
       "    <tr>\n",
       "      <th>74</th>\n",
       "      <td>Human Resources Professional</td>\n",
       "      <td>Greater Boston Area</td>\n",
       "      <td>16</td>\n",
       "      <td>0.340769</td>\n",
       "    </tr>\n",
       "    <tr>\n",
       "      <th>79</th>\n",
       "      <td>Liberal Arts Major. Aspiring Human Resources A...</td>\n",
       "      <td>Baton Rouge, Louisiana Area</td>\n",
       "      <td>7</td>\n",
       "      <td>0.336485</td>\n",
       "    </tr>\n",
       "  </tbody>\n",
       "</table>\n",
       "</div>"
      ],
      "text/plain": [
       "                                            job_title  \\\n",
       "id                                                      \n",
       "3               Aspiring Human Resources Professional   \n",
       "97              Aspiring Human Resources Professional   \n",
       "6                 Aspiring Human Resources Specialist   \n",
       "73  Aspiring Human Resources Manager, seeking inte...   \n",
       "72  Business Management Major and Aspiring Human R...   \n",
       "27  Aspiring Human Resources Management student se...   \n",
       "66  Experienced Retail Manager and aspiring Human ...   \n",
       "7   Student at Humber College and Aspiring Human R...   \n",
       "74                       Human Resources Professional   \n",
       "79  Liberal Arts Major. Aspiring Human Resources A...   \n",
       "\n",
       "                               location  connection       fit  \n",
       "id                                                             \n",
       "3   Raleigh-Durham, North Carolina Area          44  0.735855  \n",
       "97                 Kokomo, Indiana Area          71  0.735855  \n",
       "6            Greater New York City Area           1  0.632697  \n",
       "73                  Houston, Texas Area           7  0.508880  \n",
       "72               Monroe, Louisiana Area           5  0.387590  \n",
       "27                  Houston, Texas Area         501  0.374733  \n",
       "66                   Austin, Texas Area          57  0.373847  \n",
       "7                                Kanada          61  0.358949  \n",
       "74                  Greater Boston Area          16  0.340769  \n",
       "79          Baton Rouge, Louisiana Area           7  0.336485  "
      ]
     },
     "execution_count": 215,
     "metadata": {},
     "output_type": "execute_result"
    }
   ],
   "source": [
    "top_candidates(n = 10, by = 'fit', ascending = False, min_con = 0)"
   ]
  },
  {
   "cell_type": "code",
   "execution_count": 216,
   "id": "dc4c8c36",
   "metadata": {
    "scrolled": true
   },
   "outputs": [
    {
     "data": {
      "text/html": [
       "<div>\n",
       "<style scoped>\n",
       "    .dataframe tbody tr th:only-of-type {\n",
       "        vertical-align: middle;\n",
       "    }\n",
       "\n",
       "    .dataframe tbody tr th {\n",
       "        vertical-align: top;\n",
       "    }\n",
       "\n",
       "    .dataframe thead th {\n",
       "        text-align: right;\n",
       "    }\n",
       "</style>\n",
       "<table border=\"1\" class=\"dataframe\">\n",
       "  <thead>\n",
       "    <tr style=\"text-align: right;\">\n",
       "      <th></th>\n",
       "      <th>job_title</th>\n",
       "      <th>location</th>\n",
       "      <th>connection</th>\n",
       "      <th>fit</th>\n",
       "    </tr>\n",
       "    <tr>\n",
       "      <th>id</th>\n",
       "      <th></th>\n",
       "      <th></th>\n",
       "      <th></th>\n",
       "      <th></th>\n",
       "    </tr>\n",
       "  </thead>\n",
       "  <tbody>\n",
       "    <tr>\n",
       "      <th>27</th>\n",
       "      <td>Aspiring Human Resources Management student se...</td>\n",
       "      <td>Houston, Texas Area</td>\n",
       "      <td>501</td>\n",
       "      <td>0.374733</td>\n",
       "    </tr>\n",
       "    <tr>\n",
       "      <th>82</th>\n",
       "      <td>Aspiring Human Resources Professional | An ene...</td>\n",
       "      <td>Austin, Texas Area</td>\n",
       "      <td>174</td>\n",
       "      <td>0.316420</td>\n",
       "    </tr>\n",
       "    <tr>\n",
       "      <th>100</th>\n",
       "      <td>Aspiring Human Resources Manager | Graduating ...</td>\n",
       "      <td>Cape Girardeau, Missouri</td>\n",
       "      <td>103</td>\n",
       "      <td>0.308829</td>\n",
       "    </tr>\n",
       "    <tr>\n",
       "      <th>76</th>\n",
       "      <td>Aspiring Human Resources Professional | Passio...</td>\n",
       "      <td>New York, New York</td>\n",
       "      <td>212</td>\n",
       "      <td>0.246772</td>\n",
       "    </tr>\n",
       "    <tr>\n",
       "      <th>28</th>\n",
       "      <td>Seeking Human Resources Opportunities</td>\n",
       "      <td>Chicago, Illinois</td>\n",
       "      <td>390</td>\n",
       "      <td>0.220668</td>\n",
       "    </tr>\n",
       "    <tr>\n",
       "      <th>101</th>\n",
       "      <td>Human Resources Generalist at Loparex</td>\n",
       "      <td>Raleigh-Durham, North Carolina Area</td>\n",
       "      <td>501</td>\n",
       "      <td>0.196509</td>\n",
       "    </tr>\n",
       "    <tr>\n",
       "      <th>78</th>\n",
       "      <td>Human Resources Generalist at Schwan's</td>\n",
       "      <td>Amerika Birleşik Devletleri</td>\n",
       "      <td>501</td>\n",
       "      <td>0.196509</td>\n",
       "    </tr>\n",
       "    <tr>\n",
       "      <th>71</th>\n",
       "      <td>Human Resources Generalist at ScottMadden, Inc.</td>\n",
       "      <td>Raleigh-Durham, North Carolina Area</td>\n",
       "      <td>501</td>\n",
       "      <td>0.196509</td>\n",
       "    </tr>\n",
       "    <tr>\n",
       "      <th>68</th>\n",
       "      <td>Human Resources Specialist at Luxottica</td>\n",
       "      <td>Greater New York City Area</td>\n",
       "      <td>501</td>\n",
       "      <td>0.189503</td>\n",
       "    </tr>\n",
       "    <tr>\n",
       "      <th>89</th>\n",
       "      <td>Director Human Resources  at EY</td>\n",
       "      <td>Greater Atlanta Area</td>\n",
       "      <td>349</td>\n",
       "      <td>0.187433</td>\n",
       "    </tr>\n",
       "  </tbody>\n",
       "</table>\n",
       "</div>"
      ],
      "text/plain": [
       "                                             job_title  \\\n",
       "id                                                       \n",
       "27   Aspiring Human Resources Management student se...   \n",
       "82   Aspiring Human Resources Professional | An ene...   \n",
       "100  Aspiring Human Resources Manager | Graduating ...   \n",
       "76   Aspiring Human Resources Professional | Passio...   \n",
       "28               Seeking Human Resources Opportunities   \n",
       "101              Human Resources Generalist at Loparex   \n",
       "78              Human Resources Generalist at Schwan's   \n",
       "71     Human Resources Generalist at ScottMadden, Inc.   \n",
       "68             Human Resources Specialist at Luxottica   \n",
       "89                     Director Human Resources  at EY   \n",
       "\n",
       "                                location  connection       fit  \n",
       "id                                                              \n",
       "27                   Houston, Texas Area         501  0.374733  \n",
       "82                    Austin, Texas Area         174  0.316420  \n",
       "100             Cape Girardeau, Missouri         103  0.308829  \n",
       "76                    New York, New York         212  0.246772  \n",
       "28                     Chicago, Illinois         390  0.220668  \n",
       "101  Raleigh-Durham, North Carolina Area         501  0.196509  \n",
       "78           Amerika Birleşik Devletleri         501  0.196509  \n",
       "71   Raleigh-Durham, North Carolina Area         501  0.196509  \n",
       "68            Greater New York City Area         501  0.189503  \n",
       "89                  Greater Atlanta Area         349  0.187433  "
      ]
     },
     "execution_count": 216,
     "metadata": {},
     "output_type": "execute_result"
    }
   ],
   "source": [
    "top_candidates(n = 10, by = 'fit', ascending = False, min_con = 90)"
   ]
  },
  {
   "cell_type": "code",
   "execution_count": 217,
   "id": "ac6f372f",
   "metadata": {
    "scrolled": true
   },
   "outputs": [
    {
     "data": {
      "text/html": [
       "<div>\n",
       "<style scoped>\n",
       "    .dataframe tbody tr th:only-of-type {\n",
       "        vertical-align: middle;\n",
       "    }\n",
       "\n",
       "    .dataframe tbody tr th {\n",
       "        vertical-align: top;\n",
       "    }\n",
       "\n",
       "    .dataframe thead th {\n",
       "        text-align: right;\n",
       "    }\n",
       "</style>\n",
       "<table border=\"1\" class=\"dataframe\">\n",
       "  <thead>\n",
       "    <tr style=\"text-align: right;\">\n",
       "      <th></th>\n",
       "      <th>job_title</th>\n",
       "      <th>location</th>\n",
       "      <th>connection</th>\n",
       "      <th>fit</th>\n",
       "    </tr>\n",
       "    <tr>\n",
       "      <th>id</th>\n",
       "      <th></th>\n",
       "      <th></th>\n",
       "      <th></th>\n",
       "      <th></th>\n",
       "    </tr>\n",
       "  </thead>\n",
       "  <tbody>\n",
       "    <tr>\n",
       "      <th>66</th>\n",
       "      <td>Experienced Retail Manager and aspiring Human ...</td>\n",
       "      <td>Austin, Texas Area</td>\n",
       "      <td>57</td>\n",
       "      <td>0.373847</td>\n",
       "    </tr>\n",
       "    <tr>\n",
       "      <th>82</th>\n",
       "      <td>Aspiring Human Resources Professional | An ene...</td>\n",
       "      <td>Austin, Texas Area</td>\n",
       "      <td>174</td>\n",
       "      <td>0.316420</td>\n",
       "    </tr>\n",
       "  </tbody>\n",
       "</table>\n",
       "</div>"
      ],
      "text/plain": [
       "                                            job_title            location  \\\n",
       "id                                                                          \n",
       "66  Experienced Retail Manager and aspiring Human ...  Austin, Texas Area   \n",
       "82  Aspiring Human Resources Professional | An ene...  Austin, Texas Area   \n",
       "\n",
       "    connection       fit  \n",
       "id                        \n",
       "66          57  0.373847  \n",
       "82         174  0.316420  "
      ]
     },
     "execution_count": 217,
     "metadata": {},
     "output_type": "execute_result"
    }
   ],
   "source": [
    "top_candidates(n = 50, by = 'fit', ascending = False, location = 'Austin, Texas Area')"
   ]
  },
  {
   "cell_type": "code",
   "execution_count": 218,
   "id": "0c575ec7",
   "metadata": {},
   "outputs": [
    {
     "data": {
      "text/html": [
       "<div>\n",
       "<style scoped>\n",
       "    .dataframe tbody tr th:only-of-type {\n",
       "        vertical-align: middle;\n",
       "    }\n",
       "\n",
       "    .dataframe tbody tr th {\n",
       "        vertical-align: top;\n",
       "    }\n",
       "\n",
       "    .dataframe thead th {\n",
       "        text-align: right;\n",
       "    }\n",
       "</style>\n",
       "<table border=\"1\" class=\"dataframe\">\n",
       "  <thead>\n",
       "    <tr style=\"text-align: right;\">\n",
       "      <th></th>\n",
       "      <th>job_title</th>\n",
       "      <th>location</th>\n",
       "      <th>connection</th>\n",
       "      <th>fit</th>\n",
       "    </tr>\n",
       "    <tr>\n",
       "      <th>id</th>\n",
       "      <th></th>\n",
       "      <th></th>\n",
       "      <th></th>\n",
       "      <th></th>\n",
       "    </tr>\n",
       "  </thead>\n",
       "  <tbody>\n",
       "    <tr>\n",
       "      <th>6</th>\n",
       "      <td>Aspiring Human Resources Specialist</td>\n",
       "      <td>Greater New York City Area</td>\n",
       "      <td>1</td>\n",
       "      <td>0.632697</td>\n",
       "    </tr>\n",
       "    <tr>\n",
       "      <th>68</th>\n",
       "      <td>Human Resources Specialist at Luxottica</td>\n",
       "      <td>Greater New York City Area</td>\n",
       "      <td>501</td>\n",
       "      <td>0.189503</td>\n",
       "    </tr>\n",
       "    <tr>\n",
       "      <th>102</th>\n",
       "      <td>Business Intelligence and Analytics at Travelers</td>\n",
       "      <td>Greater New York City Area</td>\n",
       "      <td>49</td>\n",
       "      <td>0.000000</td>\n",
       "    </tr>\n",
       "  </tbody>\n",
       "</table>\n",
       "</div>"
      ],
      "text/plain": [
       "                                            job_title  \\\n",
       "id                                                      \n",
       "6                 Aspiring Human Resources Specialist   \n",
       "68            Human Resources Specialist at Luxottica   \n",
       "102  Business Intelligence and Analytics at Travelers   \n",
       "\n",
       "                       location  connection       fit  \n",
       "id                                                     \n",
       "6    Greater New York City Area           1  0.632697  \n",
       "68   Greater New York City Area         501  0.189503  \n",
       "102  Greater New York City Area          49  0.000000  "
      ]
     },
     "execution_count": 218,
     "metadata": {},
     "output_type": "execute_result"
    }
   ],
   "source": [
    "top_candidates(n = 50, by = 'fit', ascending = False, location = 'Greater New York City Area')"
   ]
  },
  {
   "cell_type": "code",
   "execution_count": 219,
   "id": "ad85a04d",
   "metadata": {},
   "outputs": [],
   "source": [
    "query = 'seeking human resources'\n",
    "\n",
    "cos_sim = get_tf_idf_query_similarity(vectorizer, docs_tfidf, query = query)\n",
    "\n",
    "df['fit'] = cos_sim"
   ]
  },
  {
   "cell_type": "code",
   "execution_count": 220,
   "id": "3b8ffe71",
   "metadata": {
    "scrolled": true
   },
   "outputs": [
    {
     "data": {
      "text/html": [
       "<div>\n",
       "<style scoped>\n",
       "    .dataframe tbody tr th:only-of-type {\n",
       "        vertical-align: middle;\n",
       "    }\n",
       "\n",
       "    .dataframe tbody tr th {\n",
       "        vertical-align: top;\n",
       "    }\n",
       "\n",
       "    .dataframe thead th {\n",
       "        text-align: right;\n",
       "    }\n",
       "</style>\n",
       "<table border=\"1\" class=\"dataframe\">\n",
       "  <thead>\n",
       "    <tr style=\"text-align: right;\">\n",
       "      <th></th>\n",
       "      <th>job_title</th>\n",
       "      <th>location</th>\n",
       "      <th>connection</th>\n",
       "      <th>fit</th>\n",
       "    </tr>\n",
       "    <tr>\n",
       "      <th>id</th>\n",
       "      <th></th>\n",
       "      <th></th>\n",
       "      <th></th>\n",
       "      <th></th>\n",
       "    </tr>\n",
       "  </thead>\n",
       "  <tbody>\n",
       "    <tr>\n",
       "      <th>99</th>\n",
       "      <td>Seeking Human Resources Position</td>\n",
       "      <td>Las Vegas, Nevada Area</td>\n",
       "      <td>48</td>\n",
       "      <td>0.675682</td>\n",
       "    </tr>\n",
       "    <tr>\n",
       "      <th>28</th>\n",
       "      <td>Seeking Human Resources Opportunities</td>\n",
       "      <td>Chicago, Illinois</td>\n",
       "      <td>390</td>\n",
       "      <td>0.675682</td>\n",
       "    </tr>\n",
       "    <tr>\n",
       "      <th>10</th>\n",
       "      <td>Seeking Human Resources HRIS and Generalist Po...</td>\n",
       "      <td>Greater Philadelphia Area</td>\n",
       "      <td>501</td>\n",
       "      <td>0.432761</td>\n",
       "    </tr>\n",
       "    <tr>\n",
       "      <th>94</th>\n",
       "      <td>Seeking Human  Resources Opportunities. Open t...</td>\n",
       "      <td>Amerika Birleşik Devletleri</td>\n",
       "      <td>415</td>\n",
       "      <td>0.381290</td>\n",
       "    </tr>\n",
       "    <tr>\n",
       "      <th>73</th>\n",
       "      <td>Aspiring Human Resources Manager, seeking inte...</td>\n",
       "      <td>Houston, Texas Area</td>\n",
       "      <td>7</td>\n",
       "      <td>0.362648</td>\n",
       "    </tr>\n",
       "    <tr>\n",
       "      <th>74</th>\n",
       "      <td>Human Resources Professional</td>\n",
       "      <td>Greater Boston Area</td>\n",
       "      <td>16</td>\n",
       "      <td>0.295223</td>\n",
       "    </tr>\n",
       "    <tr>\n",
       "      <th>75</th>\n",
       "      <td>Nortia Staffing is seeking Human Resources, Pa...</td>\n",
       "      <td>San Jose, California</td>\n",
       "      <td>501</td>\n",
       "      <td>0.273577</td>\n",
       "    </tr>\n",
       "    <tr>\n",
       "      <th>27</th>\n",
       "      <td>Aspiring Human Resources Management student se...</td>\n",
       "      <td>Houston, Texas Area</td>\n",
       "      <td>501</td>\n",
       "      <td>0.245337</td>\n",
       "    </tr>\n",
       "    <tr>\n",
       "      <th>3</th>\n",
       "      <td>Aspiring Human Resources Professional</td>\n",
       "      <td>Raleigh-Durham, North Carolina Area</td>\n",
       "      <td>44</td>\n",
       "      <td>0.240319</td>\n",
       "    </tr>\n",
       "    <tr>\n",
       "      <th>97</th>\n",
       "      <td>Aspiring Human Resources Professional</td>\n",
       "      <td>Kokomo, Indiana Area</td>\n",
       "      <td>71</td>\n",
       "      <td>0.240319</td>\n",
       "    </tr>\n",
       "  </tbody>\n",
       "</table>\n",
       "</div>"
      ],
      "text/plain": [
       "                                            job_title  \\\n",
       "id                                                      \n",
       "99                   Seeking Human Resources Position   \n",
       "28              Seeking Human Resources Opportunities   \n",
       "10  Seeking Human Resources HRIS and Generalist Po...   \n",
       "94  Seeking Human  Resources Opportunities. Open t...   \n",
       "73  Aspiring Human Resources Manager, seeking inte...   \n",
       "74                       Human Resources Professional   \n",
       "75  Nortia Staffing is seeking Human Resources, Pa...   \n",
       "27  Aspiring Human Resources Management student se...   \n",
       "3               Aspiring Human Resources Professional   \n",
       "97              Aspiring Human Resources Professional   \n",
       "\n",
       "                               location  connection       fit  \n",
       "id                                                             \n",
       "99               Las Vegas, Nevada Area          48  0.675682  \n",
       "28                    Chicago, Illinois         390  0.675682  \n",
       "10            Greater Philadelphia Area         501  0.432761  \n",
       "94          Amerika Birleşik Devletleri         415  0.381290  \n",
       "73                  Houston, Texas Area           7  0.362648  \n",
       "74                  Greater Boston Area          16  0.295223  \n",
       "75                 San Jose, California         501  0.273577  \n",
       "27                  Houston, Texas Area         501  0.245337  \n",
       "3   Raleigh-Durham, North Carolina Area          44  0.240319  \n",
       "97                 Kokomo, Indiana Area          71  0.240319  "
      ]
     },
     "execution_count": 220,
     "metadata": {},
     "output_type": "execute_result"
    }
   ],
   "source": [
    "top_candidates(n = 10, by = 'fit', ascending = False, min_con = 0)"
   ]
  },
  {
   "cell_type": "markdown",
   "id": "d3a68c6c",
   "metadata": {},
   "source": [
    "# Word2Vec"
   ]
  },
  {
   "cell_type": "code",
   "execution_count": 221,
   "id": "135c3a8c",
   "metadata": {
    "scrolled": true
   },
   "outputs": [],
   "source": [
    "# !pip install nltk\n",
    "# !pip install keras\n",
    "# !pip install tensorflow\n",
    "# !pip install -U gensim"
   ]
  },
  {
   "cell_type": "markdown",
   "id": "ec64e7f6",
   "metadata": {},
   "source": [
    "### Prepping our Text for Modelling"
   ]
  },
  {
   "cell_type": "code",
   "execution_count": 222,
   "id": "fd7f41b4",
   "metadata": {},
   "outputs": [],
   "source": [
    "import re\n",
    "import nltk\n",
    "\n",
    "# processing texts for modelling\n",
    "from nltk.corpus import stopwords\n",
    "stop_words = stopwords.words('english')\n",
    "df['job_title_cleaned'] = df.job_title.apply(lambda x: \" \".join(re.sub(r'[^a-zA-Z]',' ',w).lower() \n",
    "                                                                                  for w in x.split() \n",
    "                                                                                  if re.sub(r'[^a-zA-Z]',' ',w).lower() \n",
    "                                                                                  not in stop_words) )"
   ]
  },
  {
   "cell_type": "code",
   "execution_count": 223,
   "id": "4d9a8b28",
   "metadata": {},
   "outputs": [
    {
     "name": "stdout",
     "output_type": "stream",
     "text": [
      "<class 'pandas.core.frame.DataFrame'>\n",
      "Int64Index: 53 entries, 1 to 104\n",
      "Data columns (total 5 columns):\n",
      " #   Column             Non-Null Count  Dtype  \n",
      "---  ------             --------------  -----  \n",
      " 0   job_title          53 non-null     object \n",
      " 1   location           53 non-null     object \n",
      " 2   connection         53 non-null     int64  \n",
      " 3   fit                53 non-null     float64\n",
      " 4   job_title_cleaned  53 non-null     object \n",
      "dtypes: float64(1), int64(1), object(3)\n",
      "memory usage: 2.5+ KB\n"
     ]
    }
   ],
   "source": [
    "df.info()"
   ]
  },
  {
   "cell_type": "code",
   "execution_count": 224,
   "id": "44746de1",
   "metadata": {},
   "outputs": [],
   "source": [
    "# tokenize and pad every document to make them of the same size\n",
    "from keras.preprocessing.text import Tokenizer\n",
    "from keras.preprocessing.sequence import pad_sequences\n",
    "tokenizer=Tokenizer()\n",
    "\n",
    "tokenizer.fit_on_texts(df.job_title_cleaned)\n",
    "tokenized_documents=tokenizer.texts_to_sequences(df.job_title_cleaned)\n",
    "tokenized_paded_documents=pad_sequences(tokenized_documents,maxlen=64,padding='post')\n",
    "vocab_size=len(tokenizer.word_index)+1"
   ]
  },
  {
   "cell_type": "code",
   "execution_count": 225,
   "id": "0b2b07ea",
   "metadata": {},
   "outputs": [],
   "source": [
    "# loading pre-trained embeddings, each word is represented as a 300 dimensional vector\n",
    "import gensim\n",
    "W2V_PATH=\"https://s3.amazonaws.com/dl4j-distribution/GoogleNews-vectors-negative300.bin.gz\"\n",
    "model_w2v = gensim.models.KeyedVectors.load_word2vec_format(W2V_PATH, binary=True)"
   ]
  },
  {
   "cell_type": "code",
   "execution_count": 226,
   "id": "cfad3ea5",
   "metadata": {},
   "outputs": [
    {
     "data": {
      "text/plain": [
       "(53, 64, 300)"
      ]
     },
     "execution_count": 226,
     "metadata": {},
     "output_type": "execute_result"
    }
   ],
   "source": [
    "# creating embedding matrix, every row is a vector representation from the vocabulary indexed by the tokenizer index. \n",
    "embedding_matrix=np.zeros((vocab_size,300))\n",
    "for word,i in tokenizer.word_index.items():\n",
    "    if word in model_w2v:\n",
    "        embedding_matrix[i]=model_w2v[word]\n",
    "        \n",
    "# creating document-word embeddings\n",
    "document_word_embeddings=np.zeros((len(tokenized_paded_documents),64,300))\n",
    "for i in range(len(tokenized_paded_documents)):\n",
    "    for j in range(len(tokenized_paded_documents[0])):\n",
    "        document_word_embeddings[i][j]=embedding_matrix[tokenized_paded_documents[i][j]]\n",
    "document_word_embeddings.shape"
   ]
  },
  {
   "cell_type": "code",
   "execution_count": 227,
   "id": "23a39f8d",
   "metadata": {},
   "outputs": [
    {
     "data": {
      "text/plain": [
       "array([[-0.20800781,  0.03417969,  0.02575684, ...,  0.09570312,\n",
       "        -0.046875  ,  0.23730469],\n",
       "       [-0.33789062,  0.19824219, -0.296875  , ..., -0.15917969,\n",
       "         0.03417969,  0.09179688],\n",
       "       [-0.05249023,  0.06396484, -0.07128906, ..., -0.01037598,\n",
       "        -0.12402344,  0.05541992],\n",
       "       ...,\n",
       "       [-0.03112793,  0.27148438,  0.09814453, ..., -0.01287842,\n",
       "        -0.33789062,  0.15429688],\n",
       "       [-0.17285156, -0.02600098, -0.06152344, ..., -0.36523438,\n",
       "         0.37304688,  0.23242188],\n",
       "       [-0.140625  ,  0.06835938,  0.01092529, ...,  0.05932617,\n",
       "        -0.265625  ,  0.09619141]])"
      ]
     },
     "execution_count": 227,
     "metadata": {},
     "output_type": "execute_result"
    }
   ],
   "source": [
    "document_word_embeddings[0][:10]"
   ]
  },
  {
   "cell_type": "code",
   "execution_count": 228,
   "id": "c0c96cbd",
   "metadata": {},
   "outputs": [],
   "source": [
    "# cosine_similarity = np.dot(model_w2v['spain'], model_w2v['england'])/(np.linalg.norm(model_w2v['spain'])* \n",
    "#                                                                       np.linalg.norm(model_w2v['england']))\n",
    "# cosine_similarity"
   ]
  },
  {
   "cell_type": "code",
   "execution_count": 229,
   "id": "ceedd1b1",
   "metadata": {
    "scrolled": true
   },
   "outputs": [],
   "source": [
    "# model_w2v['england'][:5]"
   ]
  },
  {
   "cell_type": "code",
   "execution_count": 230,
   "id": "d1946cd8",
   "metadata": {
    "scrolled": true
   },
   "outputs": [],
   "source": [
    "def processing(query):\n",
    "    df3 = pd.DataFrame([query], columns=['query'])\n",
    "    stop_words = stopwords.words('english')\n",
    "    df3['processed'] = df3['query'].apply(lambda x: \" \".join(re.sub(r'[^a-zA-Z]',' ',w).lower() \n",
    "                                                                                  for w in x.split() \n",
    "                                                                                  if re.sub(r'[^a-zA-Z]',' ',w).lower() \n",
    "                                                                                  not in stop_words) )\n",
    "    \n",
    "    tokenizer.fit_on_texts(df3.processed)\n",
    "    tokenized_documents=tokenizer.texts_to_sequences(df3.processed)\n",
    "    tokenized_paded_documents=pad_sequences(tokenized_documents,maxlen=64,padding='post')\n",
    "    vocab_size=len(tokenizer.word_index)+1\n",
    "    \n",
    "    embedding_matrix=np.zeros((vocab_size,300))\n",
    "    for word,i in tokenizer.word_index.items():\n",
    "        if word in model_w2v:\n",
    "            embedding_matrix[i]=model_w2v[word]\n",
    "\n",
    "    # creating document-word embeddings\n",
    "    query_document_word_embeddings=np.zeros((len(tokenized_paded_documents),64,300))\n",
    "    for i in range(len(tokenized_paded_documents)):\n",
    "        for j in range(len(tokenized_paded_documents[0])):\n",
    "            query_document_word_embeddings[i][j]=embedding_matrix[tokenized_paded_documents[i][j]]\n",
    "#     document_word_embeddings.shape\n",
    "    \n",
    "    return query_document_word_embeddings"
   ]
  },
  {
   "cell_type": "code",
   "execution_count": 231,
   "id": "12e321d8",
   "metadata": {
    "scrolled": true
   },
   "outputs": [
    {
     "data": {
      "text/plain": [
       "(1, 64, 300)"
      ]
     },
     "execution_count": 231,
     "metadata": {},
     "output_type": "execute_result"
    }
   ],
   "source": [
    "processing('hello world!!!!').shape"
   ]
  },
  {
   "cell_type": "code",
   "execution_count": 282,
   "id": "7ca0c155",
   "metadata": {
    "scrolled": false
   },
   "outputs": [
    {
     "data": {
      "text/plain": [
       "array([-0.05419922,  0.01708984, -0.00527954,  0.33203125, -0.25      ])"
      ]
     },
     "execution_count": 282,
     "metadata": {},
     "output_type": "execute_result"
    }
   ],
   "source": [
    "processing('hello world!!!!')[0][0][:5]"
   ]
  },
  {
   "cell_type": "code",
   "execution_count": 232,
   "id": "1c4f28f2",
   "metadata": {
    "scrolled": true
   },
   "outputs": [
    {
     "data": {
      "text/plain": [
       "array([-0.05419922,  0.01708984, -0.00527954,  0.33203125, -0.25      ])"
      ]
     },
     "execution_count": 232,
     "metadata": {},
     "output_type": "execute_result"
    }
   ],
   "source": [
    "processing('hello world!!!!')[0][:3][0][:20]"
   ]
  },
  {
   "cell_type": "code",
   "execution_count": 233,
   "id": "3c1aad0c",
   "metadata": {
    "scrolled": true
   },
   "outputs": [
    {
     "data": {
      "text/plain": [
       "array([-0.140625  ,  0.06835938,  0.01092529, -0.17285156,  0.13574219])"
      ]
     },
     "execution_count": 233,
     "metadata": {},
     "output_type": "execute_result"
    }
   ],
   "source": [
    "processing('Aspiring human resources')[0][:3][0][:5]"
   ]
  },
  {
   "cell_type": "code",
   "execution_count": 258,
   "id": "5a4c4424",
   "metadata": {},
   "outputs": [],
   "source": [
    "def get_w2v_query_similarity(query_w2v, document_word_embeddings, query):\n",
    "    \"\"\"\n",
    "    query_w2v: processing the query\n",
    "    model_w2v: word2vec embedding for all docs\n",
    "    query: query doc\n",
    "\n",
    "    return: cosine similarity between query and all docs\n",
    "\n",
    "    \"\"\"\n",
    "    query_w2v = processing(query)\n",
    "    \n",
    "    nsamples, nx, ny = query_w2v.shape\n",
    "    query_w2v_reshape = query_w2v.reshape((nsamples,nx*ny))\n",
    "\n",
    "    nsamples, nx, ny = document_word_embeddings.shape\n",
    "    document_word_embeddings_reshape = document_word_embeddings.reshape((nsamples,nx*ny))\n",
    "    \n",
    "    cos_sim_w2v = cosine_similarity(query_w2v_reshape, document_word_embeddings_reshape).flatten()\n",
    "    \n",
    "    return cos_sim_w2v"
   ]
  },
  {
   "cell_type": "code",
   "execution_count": 259,
   "id": "eb888945",
   "metadata": {},
   "outputs": [],
   "source": [
    "query = 'Aspiring human resources'\n",
    "\n",
    "cos_sim_w2v = get_w2v_query_similarity(query_w2v, document_word_embeddings, query = query)\n",
    "\n",
    "df['w2v_fit'] = cos_sim_w2v"
   ]
  },
  {
   "cell_type": "code",
   "execution_count": 260,
   "id": "f0d81e82",
   "metadata": {
    "scrolled": false
   },
   "outputs": [
    {
     "data": {
      "text/html": [
       "<div>\n",
       "<style scoped>\n",
       "    .dataframe tbody tr th:only-of-type {\n",
       "        vertical-align: middle;\n",
       "    }\n",
       "\n",
       "    .dataframe tbody tr th {\n",
       "        vertical-align: top;\n",
       "    }\n",
       "\n",
       "    .dataframe thead th {\n",
       "        text-align: right;\n",
       "    }\n",
       "</style>\n",
       "<table border=\"1\" class=\"dataframe\">\n",
       "  <thead>\n",
       "    <tr style=\"text-align: right;\">\n",
       "      <th></th>\n",
       "      <th>job_title</th>\n",
       "      <th>location</th>\n",
       "      <th>connection</th>\n",
       "      <th>fit</th>\n",
       "      <th>job_title_cleaned</th>\n",
       "      <th>w2v_fit</th>\n",
       "    </tr>\n",
       "    <tr>\n",
       "      <th>id</th>\n",
       "      <th></th>\n",
       "      <th></th>\n",
       "      <th></th>\n",
       "      <th></th>\n",
       "      <th></th>\n",
       "      <th></th>\n",
       "    </tr>\n",
       "  </thead>\n",
       "  <tbody>\n",
       "    <tr>\n",
       "      <th>97</th>\n",
       "      <td>Aspiring Human Resources Professional</td>\n",
       "      <td>Kokomo, Indiana Area</td>\n",
       "      <td>71</td>\n",
       "      <td>0.240319</td>\n",
       "      <td>aspiring human resources professional</td>\n",
       "      <td>0.898174</td>\n",
       "    </tr>\n",
       "    <tr>\n",
       "      <th>3</th>\n",
       "      <td>Aspiring Human Resources Professional</td>\n",
       "      <td>Raleigh-Durham, North Carolina Area</td>\n",
       "      <td>44</td>\n",
       "      <td>0.240319</td>\n",
       "      <td>aspiring human resources professional</td>\n",
       "      <td>0.898174</td>\n",
       "    </tr>\n",
       "    <tr>\n",
       "      <th>6</th>\n",
       "      <td>Aspiring Human Resources Specialist</td>\n",
       "      <td>Greater New York City Area</td>\n",
       "      <td>1</td>\n",
       "      <td>0.206629</td>\n",
       "      <td>aspiring human resources specialist</td>\n",
       "      <td>0.873679</td>\n",
       "    </tr>\n",
       "    <tr>\n",
       "      <th>99</th>\n",
       "      <td>Seeking Human Resources Position</td>\n",
       "      <td>Las Vegas, Nevada Area</td>\n",
       "      <td>48</td>\n",
       "      <td>0.675682</td>\n",
       "      <td>seeking human resources position</td>\n",
       "      <td>0.654387</td>\n",
       "    </tr>\n",
       "    <tr>\n",
       "      <th>82</th>\n",
       "      <td>Aspiring Human Resources Professional | An ene...</td>\n",
       "      <td>Austin, Texas Area</td>\n",
       "      <td>174</td>\n",
       "      <td>0.103338</td>\n",
       "      <td>aspiring human resources professional   energe...</td>\n",
       "      <td>0.641739</td>\n",
       "    </tr>\n",
       "    <tr>\n",
       "      <th>27</th>\n",
       "      <td>Aspiring Human Resources Management student se...</td>\n",
       "      <td>Houston, Texas Area</td>\n",
       "      <td>501</td>\n",
       "      <td>0.245337</td>\n",
       "      <td>aspiring human resources management student se...</td>\n",
       "      <td>0.628601</td>\n",
       "    </tr>\n",
       "    <tr>\n",
       "      <th>28</th>\n",
       "      <td>Seeking Human Resources Opportunities</td>\n",
       "      <td>Chicago, Illinois</td>\n",
       "      <td>390</td>\n",
       "      <td>0.675682</td>\n",
       "      <td>seeking human resources opportunities</td>\n",
       "      <td>0.619797</td>\n",
       "    </tr>\n",
       "    <tr>\n",
       "      <th>73</th>\n",
       "      <td>Aspiring Human Resources Manager, seeking inte...</td>\n",
       "      <td>Houston, Texas Area</td>\n",
       "      <td>7</td>\n",
       "      <td>0.362648</td>\n",
       "      <td>aspiring human resources manager  seeking inte...</td>\n",
       "      <td>0.584569</td>\n",
       "    </tr>\n",
       "    <tr>\n",
       "      <th>76</th>\n",
       "      <td>Aspiring Human Resources Professional | Passio...</td>\n",
       "      <td>New York, New York</td>\n",
       "      <td>212</td>\n",
       "      <td>0.080592</td>\n",
       "      <td>aspiring human resources professional   passio...</td>\n",
       "      <td>0.551164</td>\n",
       "    </tr>\n",
       "    <tr>\n",
       "      <th>10</th>\n",
       "      <td>Seeking Human Resources HRIS and Generalist Po...</td>\n",
       "      <td>Greater Philadelphia Area</td>\n",
       "      <td>501</td>\n",
       "      <td>0.432761</td>\n",
       "      <td>seeking human resources hris generalist positions</td>\n",
       "      <td>0.519345</td>\n",
       "    </tr>\n",
       "  </tbody>\n",
       "</table>\n",
       "</div>"
      ],
      "text/plain": [
       "                                            job_title  \\\n",
       "id                                                      \n",
       "97              Aspiring Human Resources Professional   \n",
       "3               Aspiring Human Resources Professional   \n",
       "6                 Aspiring Human Resources Specialist   \n",
       "99                   Seeking Human Resources Position   \n",
       "82  Aspiring Human Resources Professional | An ene...   \n",
       "27  Aspiring Human Resources Management student se...   \n",
       "28              Seeking Human Resources Opportunities   \n",
       "73  Aspiring Human Resources Manager, seeking inte...   \n",
       "76  Aspiring Human Resources Professional | Passio...   \n",
       "10  Seeking Human Resources HRIS and Generalist Po...   \n",
       "\n",
       "                               location  connection       fit  \\\n",
       "id                                                              \n",
       "97                 Kokomo, Indiana Area          71  0.240319   \n",
       "3   Raleigh-Durham, North Carolina Area          44  0.240319   \n",
       "6            Greater New York City Area           1  0.206629   \n",
       "99               Las Vegas, Nevada Area          48  0.675682   \n",
       "82                   Austin, Texas Area         174  0.103338   \n",
       "27                  Houston, Texas Area         501  0.245337   \n",
       "28                    Chicago, Illinois         390  0.675682   \n",
       "73                  Houston, Texas Area           7  0.362648   \n",
       "76                   New York, New York         212  0.080592   \n",
       "10            Greater Philadelphia Area         501  0.432761   \n",
       "\n",
       "                                    job_title_cleaned   w2v_fit  \n",
       "id                                                               \n",
       "97              aspiring human resources professional  0.898174  \n",
       "3               aspiring human resources professional  0.898174  \n",
       "6                 aspiring human resources specialist  0.873679  \n",
       "99                   seeking human resources position  0.654387  \n",
       "82  aspiring human resources professional   energe...  0.641739  \n",
       "27  aspiring human resources management student se...  0.628601  \n",
       "28              seeking human resources opportunities  0.619797  \n",
       "73  aspiring human resources manager  seeking inte...  0.584569  \n",
       "76  aspiring human resources professional   passio...  0.551164  \n",
       "10  seeking human resources hris generalist positions  0.519345  "
      ]
     },
     "execution_count": 260,
     "metadata": {},
     "output_type": "execute_result"
    }
   ],
   "source": [
    "top_candidates(n = 10, by = 'w2v_fit', ascending = False, min_con = 0)"
   ]
  },
  {
   "cell_type": "code",
   "execution_count": 261,
   "id": "5890c0a0",
   "metadata": {
    "scrolled": true
   },
   "outputs": [],
   "source": [
    "query = 'seeking human resources'\n",
    "\n",
    "cos_sim_w2v = get_w2v_query_similarity(query_w2v, document_word_embeddings, query = query)\n",
    "\n",
    "df['w2v_fit'] = cos_sim_w2v"
   ]
  },
  {
   "cell_type": "code",
   "execution_count": 262,
   "id": "7b26cbbd",
   "metadata": {
    "scrolled": false
   },
   "outputs": [
    {
     "data": {
      "text/html": [
       "<div>\n",
       "<style scoped>\n",
       "    .dataframe tbody tr th:only-of-type {\n",
       "        vertical-align: middle;\n",
       "    }\n",
       "\n",
       "    .dataframe tbody tr th {\n",
       "        vertical-align: top;\n",
       "    }\n",
       "\n",
       "    .dataframe thead th {\n",
       "        text-align: right;\n",
       "    }\n",
       "</style>\n",
       "<table border=\"1\" class=\"dataframe\">\n",
       "  <thead>\n",
       "    <tr style=\"text-align: right;\">\n",
       "      <th></th>\n",
       "      <th>job_title</th>\n",
       "      <th>location</th>\n",
       "      <th>connection</th>\n",
       "      <th>fit</th>\n",
       "      <th>job_title_cleaned</th>\n",
       "      <th>w2v_fit</th>\n",
       "    </tr>\n",
       "    <tr>\n",
       "      <th>id</th>\n",
       "      <th></th>\n",
       "      <th></th>\n",
       "      <th></th>\n",
       "      <th></th>\n",
       "      <th></th>\n",
       "      <th></th>\n",
       "    </tr>\n",
       "  </thead>\n",
       "  <tbody>\n",
       "    <tr>\n",
       "      <th>99</th>\n",
       "      <td>Seeking Human Resources Position</td>\n",
       "      <td>Las Vegas, Nevada Area</td>\n",
       "      <td>48</td>\n",
       "      <td>0.675682</td>\n",
       "      <td>seeking human resources position</td>\n",
       "      <td>0.886226</td>\n",
       "    </tr>\n",
       "    <tr>\n",
       "      <th>28</th>\n",
       "      <td>Seeking Human Resources Opportunities</td>\n",
       "      <td>Chicago, Illinois</td>\n",
       "      <td>390</td>\n",
       "      <td>0.675682</td>\n",
       "      <td>seeking human resources opportunities</td>\n",
       "      <td>0.839381</td>\n",
       "    </tr>\n",
       "    <tr>\n",
       "      <th>10</th>\n",
       "      <td>Seeking Human Resources HRIS and Generalist Po...</td>\n",
       "      <td>Greater Philadelphia Area</td>\n",
       "      <td>501</td>\n",
       "      <td>0.432761</td>\n",
       "      <td>seeking human resources hris generalist positions</td>\n",
       "      <td>0.703341</td>\n",
       "    </tr>\n",
       "    <tr>\n",
       "      <th>97</th>\n",
       "      <td>Aspiring Human Resources Professional</td>\n",
       "      <td>Kokomo, Indiana Area</td>\n",
       "      <td>71</td>\n",
       "      <td>0.240319</td>\n",
       "      <td>aspiring human resources professional</td>\n",
       "      <td>0.663209</td>\n",
       "    </tr>\n",
       "    <tr>\n",
       "      <th>3</th>\n",
       "      <td>Aspiring Human Resources Professional</td>\n",
       "      <td>Raleigh-Durham, North Carolina Area</td>\n",
       "      <td>44</td>\n",
       "      <td>0.240319</td>\n",
       "      <td>aspiring human resources professional</td>\n",
       "      <td>0.663209</td>\n",
       "    </tr>\n",
       "    <tr>\n",
       "      <th>6</th>\n",
       "      <td>Aspiring Human Resources Specialist</td>\n",
       "      <td>Greater New York City Area</td>\n",
       "      <td>1</td>\n",
       "      <td>0.206629</td>\n",
       "      <td>aspiring human resources specialist</td>\n",
       "      <td>0.645122</td>\n",
       "    </tr>\n",
       "    <tr>\n",
       "      <th>94</th>\n",
       "      <td>Seeking Human  Resources Opportunities. Open t...</td>\n",
       "      <td>Amerika Birleşik Devletleri</td>\n",
       "      <td>415</td>\n",
       "      <td>0.381290</td>\n",
       "      <td>seeking human resources opportunities  open tr...</td>\n",
       "      <td>0.639099</td>\n",
       "    </tr>\n",
       "    <tr>\n",
       "      <th>89</th>\n",
       "      <td>Director Human Resources  at EY</td>\n",
       "      <td>Greater Atlanta Area</td>\n",
       "      <td>349</td>\n",
       "      <td>0.162381</td>\n",
       "      <td>director human resources ey</td>\n",
       "      <td>0.571728</td>\n",
       "    </tr>\n",
       "    <tr>\n",
       "      <th>82</th>\n",
       "      <td>Aspiring Human Resources Professional | An ene...</td>\n",
       "      <td>Austin, Texas Area</td>\n",
       "      <td>174</td>\n",
       "      <td>0.103338</td>\n",
       "      <td>aspiring human resources professional   energe...</td>\n",
       "      <td>0.473859</td>\n",
       "    </tr>\n",
       "    <tr>\n",
       "      <th>81</th>\n",
       "      <td>Senior Human Resources Business Partner at Hei...</td>\n",
       "      <td>Chattanooga, Tennessee Area</td>\n",
       "      <td>455</td>\n",
       "      <td>0.102581</td>\n",
       "      <td>senior human resources business partner heil e...</td>\n",
       "      <td>0.470671</td>\n",
       "    </tr>\n",
       "  </tbody>\n",
       "</table>\n",
       "</div>"
      ],
      "text/plain": [
       "                                            job_title  \\\n",
       "id                                                      \n",
       "99                   Seeking Human Resources Position   \n",
       "28              Seeking Human Resources Opportunities   \n",
       "10  Seeking Human Resources HRIS and Generalist Po...   \n",
       "97              Aspiring Human Resources Professional   \n",
       "3               Aspiring Human Resources Professional   \n",
       "6                 Aspiring Human Resources Specialist   \n",
       "94  Seeking Human  Resources Opportunities. Open t...   \n",
       "89                    Director Human Resources  at EY   \n",
       "82  Aspiring Human Resources Professional | An ene...   \n",
       "81  Senior Human Resources Business Partner at Hei...   \n",
       "\n",
       "                               location  connection       fit  \\\n",
       "id                                                              \n",
       "99               Las Vegas, Nevada Area          48  0.675682   \n",
       "28                    Chicago, Illinois         390  0.675682   \n",
       "10            Greater Philadelphia Area         501  0.432761   \n",
       "97                 Kokomo, Indiana Area          71  0.240319   \n",
       "3   Raleigh-Durham, North Carolina Area          44  0.240319   \n",
       "6            Greater New York City Area           1  0.206629   \n",
       "94          Amerika Birleşik Devletleri         415  0.381290   \n",
       "89                 Greater Atlanta Area         349  0.162381   \n",
       "82                   Austin, Texas Area         174  0.103338   \n",
       "81          Chattanooga, Tennessee Area         455  0.102581   \n",
       "\n",
       "                                    job_title_cleaned   w2v_fit  \n",
       "id                                                               \n",
       "99                   seeking human resources position  0.886226  \n",
       "28              seeking human resources opportunities  0.839381  \n",
       "10  seeking human resources hris generalist positions  0.703341  \n",
       "97              aspiring human resources professional  0.663209  \n",
       "3               aspiring human resources professional  0.663209  \n",
       "6                 aspiring human resources specialist  0.645122  \n",
       "94  seeking human resources opportunities  open tr...  0.639099  \n",
       "89                        director human resources ey  0.571728  \n",
       "82  aspiring human resources professional   energe...  0.473859  \n",
       "81  senior human resources business partner heil e...  0.470671  "
      ]
     },
     "execution_count": 262,
     "metadata": {},
     "output_type": "execute_result"
    }
   ],
   "source": [
    "top_candidates(n = 10, by = 'w2v_fit', ascending = False, min_con = 0)"
   ]
  },
  {
   "cell_type": "code",
   "execution_count": 263,
   "id": "174c3024",
   "metadata": {},
   "outputs": [],
   "source": [
    "query = 'business intelligence specialist'\n",
    "\n",
    "cos_sim_w2v = get_w2v_query_similarity(query_w2v, document_word_embeddings, query = query)\n",
    "\n",
    "df['w2v_fit'] = cos_sim_w2v"
   ]
  },
  {
   "cell_type": "code",
   "execution_count": 264,
   "id": "e3c97288",
   "metadata": {
    "scrolled": false
   },
   "outputs": [
    {
     "data": {
      "text/html": [
       "<div>\n",
       "<style scoped>\n",
       "    .dataframe tbody tr th:only-of-type {\n",
       "        vertical-align: middle;\n",
       "    }\n",
       "\n",
       "    .dataframe tbody tr th {\n",
       "        vertical-align: top;\n",
       "    }\n",
       "\n",
       "    .dataframe thead th {\n",
       "        text-align: right;\n",
       "    }\n",
       "</style>\n",
       "<table border=\"1\" class=\"dataframe\">\n",
       "  <thead>\n",
       "    <tr style=\"text-align: right;\">\n",
       "      <th></th>\n",
       "      <th>job_title</th>\n",
       "      <th>location</th>\n",
       "      <th>connection</th>\n",
       "      <th>fit</th>\n",
       "      <th>job_title_cleaned</th>\n",
       "      <th>w2v_fit</th>\n",
       "    </tr>\n",
       "    <tr>\n",
       "      <th>id</th>\n",
       "      <th></th>\n",
       "      <th></th>\n",
       "      <th></th>\n",
       "      <th></th>\n",
       "      <th></th>\n",
       "      <th></th>\n",
       "    </tr>\n",
       "  </thead>\n",
       "  <tbody>\n",
       "    <tr>\n",
       "      <th>102</th>\n",
       "      <td>Business Intelligence and Analytics at Travelers</td>\n",
       "      <td>Greater New York City Area</td>\n",
       "      <td>49</td>\n",
       "      <td>0.000000</td>\n",
       "      <td>business intelligence analytics travelers</td>\n",
       "      <td>0.552532</td>\n",
       "    </tr>\n",
       "    <tr>\n",
       "      <th>68</th>\n",
       "      <td>Human Resources Specialist at Luxottica</td>\n",
       "      <td>Greater New York City Area</td>\n",
       "      <td>501</td>\n",
       "      <td>0.164174</td>\n",
       "      <td>human resources specialist luxottica</td>\n",
       "      <td>0.447380</td>\n",
       "    </tr>\n",
       "    <tr>\n",
       "      <th>8</th>\n",
       "      <td>HR Senior Specialist</td>\n",
       "      <td>San Francisco Bay Area</td>\n",
       "      <td>501</td>\n",
       "      <td>0.000000</td>\n",
       "      <td>hr senior specialist</td>\n",
       "      <td>0.348536</td>\n",
       "    </tr>\n",
       "    <tr>\n",
       "      <th>86</th>\n",
       "      <td>Information Systems Specialist and Programmer ...</td>\n",
       "      <td>Gaithersburg, Maryland</td>\n",
       "      <td>4</td>\n",
       "      <td>0.000000</td>\n",
       "      <td>information systems specialist programmer love...</td>\n",
       "      <td>0.274835</td>\n",
       "    </tr>\n",
       "    <tr>\n",
       "      <th>101</th>\n",
       "      <td>Human Resources Generalist at Loparex</td>\n",
       "      <td>Raleigh-Durham, North Carolina Area</td>\n",
       "      <td>501</td>\n",
       "      <td>0.170244</td>\n",
       "      <td>human resources generalist loparex</td>\n",
       "      <td>0.251939</td>\n",
       "    </tr>\n",
       "    <tr>\n",
       "      <th>78</th>\n",
       "      <td>Human Resources Generalist at Schwan's</td>\n",
       "      <td>Amerika Birleşik Devletleri</td>\n",
       "      <td>501</td>\n",
       "      <td>0.170244</td>\n",
       "      <td>human resources generalist schwan s</td>\n",
       "      <td>0.231181</td>\n",
       "    </tr>\n",
       "    <tr>\n",
       "      <th>13</th>\n",
       "      <td>Human Resources Coordinator at InterContinenta...</td>\n",
       "      <td>Atlanta, Georgia</td>\n",
       "      <td>501</td>\n",
       "      <td>0.111899</td>\n",
       "      <td>human resources coordinator intercontinental b...</td>\n",
       "      <td>0.215800</td>\n",
       "    </tr>\n",
       "    <tr>\n",
       "      <th>72</th>\n",
       "      <td>Business Management Major and Aspiring Human R...</td>\n",
       "      <td>Monroe, Louisiana Area</td>\n",
       "      <td>5</td>\n",
       "      <td>0.126581</td>\n",
       "      <td>business management major aspiring human resou...</td>\n",
       "      <td>0.214225</td>\n",
       "    </tr>\n",
       "    <tr>\n",
       "      <th>4</th>\n",
       "      <td>People Development Coordinator at Ryan</td>\n",
       "      <td>Denton, Texas</td>\n",
       "      <td>501</td>\n",
       "      <td>0.000000</td>\n",
       "      <td>people development coordinator ryan</td>\n",
       "      <td>0.205907</td>\n",
       "    </tr>\n",
       "    <tr>\n",
       "      <th>71</th>\n",
       "      <td>Human Resources Generalist at ScottMadden, Inc.</td>\n",
       "      <td>Raleigh-Durham, North Carolina Area</td>\n",
       "      <td>501</td>\n",
       "      <td>0.170244</td>\n",
       "      <td>human resources generalist scottmadden  inc</td>\n",
       "      <td>0.202920</td>\n",
       "    </tr>\n",
       "  </tbody>\n",
       "</table>\n",
       "</div>"
      ],
      "text/plain": [
       "                                             job_title  \\\n",
       "id                                                       \n",
       "102   Business Intelligence and Analytics at Travelers   \n",
       "68             Human Resources Specialist at Luxottica   \n",
       "8                                 HR Senior Specialist   \n",
       "86   Information Systems Specialist and Programmer ...   \n",
       "101              Human Resources Generalist at Loparex   \n",
       "78              Human Resources Generalist at Schwan's   \n",
       "13   Human Resources Coordinator at InterContinenta...   \n",
       "72   Business Management Major and Aspiring Human R...   \n",
       "4               People Development Coordinator at Ryan   \n",
       "71     Human Resources Generalist at ScottMadden, Inc.   \n",
       "\n",
       "                                location  connection       fit  \\\n",
       "id                                                               \n",
       "102           Greater New York City Area          49  0.000000   \n",
       "68            Greater New York City Area         501  0.164174   \n",
       "8                 San Francisco Bay Area         501  0.000000   \n",
       "86                Gaithersburg, Maryland           4  0.000000   \n",
       "101  Raleigh-Durham, North Carolina Area         501  0.170244   \n",
       "78           Amerika Birleşik Devletleri         501  0.170244   \n",
       "13                      Atlanta, Georgia         501  0.111899   \n",
       "72                Monroe, Louisiana Area           5  0.126581   \n",
       "4                          Denton, Texas         501  0.000000   \n",
       "71   Raleigh-Durham, North Carolina Area         501  0.170244   \n",
       "\n",
       "                                     job_title_cleaned   w2v_fit  \n",
       "id                                                                \n",
       "102          business intelligence analytics travelers  0.552532  \n",
       "68                human resources specialist luxottica  0.447380  \n",
       "8                                 hr senior specialist  0.348536  \n",
       "86   information systems specialist programmer love...  0.274835  \n",
       "101                 human resources generalist loparex  0.251939  \n",
       "78                 human resources generalist schwan s  0.231181  \n",
       "13   human resources coordinator intercontinental b...  0.215800  \n",
       "72   business management major aspiring human resou...  0.214225  \n",
       "4                  people development coordinator ryan  0.205907  \n",
       "71        human resources generalist scottmadden  inc   0.202920  "
      ]
     },
     "execution_count": 264,
     "metadata": {},
     "output_type": "execute_result"
    }
   ],
   "source": [
    "top_candidates(n = 10, by = 'w2v_fit', ascending = False, min_con = 0)"
   ]
  },
  {
   "cell_type": "code",
   "execution_count": 266,
   "id": "b1d7e583",
   "metadata": {
    "scrolled": false
   },
   "outputs": [
    {
     "data": {
      "text/html": [
       "<div>\n",
       "<style scoped>\n",
       "    .dataframe tbody tr th:only-of-type {\n",
       "        vertical-align: middle;\n",
       "    }\n",
       "\n",
       "    .dataframe tbody tr th {\n",
       "        vertical-align: top;\n",
       "    }\n",
       "\n",
       "    .dataframe thead th {\n",
       "        text-align: right;\n",
       "    }\n",
       "</style>\n",
       "<table border=\"1\" class=\"dataframe\">\n",
       "  <thead>\n",
       "    <tr style=\"text-align: right;\">\n",
       "      <th></th>\n",
       "      <th>job_title</th>\n",
       "      <th>location</th>\n",
       "      <th>connection</th>\n",
       "      <th>fit</th>\n",
       "      <th>job_title_cleaned</th>\n",
       "      <th>w2v_fit</th>\n",
       "    </tr>\n",
       "    <tr>\n",
       "      <th>id</th>\n",
       "      <th></th>\n",
       "      <th></th>\n",
       "      <th></th>\n",
       "      <th></th>\n",
       "      <th></th>\n",
       "      <th></th>\n",
       "    </tr>\n",
       "  </thead>\n",
       "  <tbody>\n",
       "    <tr>\n",
       "      <th>102</th>\n",
       "      <td>Business Intelligence and Analytics at Travelers</td>\n",
       "      <td>Greater New York City Area</td>\n",
       "      <td>49</td>\n",
       "      <td>0.000000</td>\n",
       "      <td>business intelligence analytics travelers</td>\n",
       "      <td>0.552532</td>\n",
       "    </tr>\n",
       "    <tr>\n",
       "      <th>68</th>\n",
       "      <td>Human Resources Specialist at Luxottica</td>\n",
       "      <td>Greater New York City Area</td>\n",
       "      <td>501</td>\n",
       "      <td>0.164174</td>\n",
       "      <td>human resources specialist luxottica</td>\n",
       "      <td>0.447380</td>\n",
       "    </tr>\n",
       "  </tbody>\n",
       "</table>\n",
       "</div>"
      ],
      "text/plain": [
       "                                            job_title  \\\n",
       "id                                                      \n",
       "102  Business Intelligence and Analytics at Travelers   \n",
       "68            Human Resources Specialist at Luxottica   \n",
       "\n",
       "                       location  connection       fit  \\\n",
       "id                                                      \n",
       "102  Greater New York City Area          49  0.000000   \n",
       "68   Greater New York City Area         501  0.164174   \n",
       "\n",
       "                             job_title_cleaned   w2v_fit  \n",
       "id                                                        \n",
       "102  business intelligence analytics travelers  0.552532  \n",
       "68        human resources specialist luxottica  0.447380  "
      ]
     },
     "execution_count": 266,
     "metadata": {},
     "output_type": "execute_result"
    }
   ],
   "source": [
    "top_candidates(n = 10, by = 'w2v_fit', ascending = False, min_con = 20, location = 'Greater New York City Area')"
   ]
  },
  {
   "cell_type": "code",
   "execution_count": null,
   "id": "a6762392",
   "metadata": {},
   "outputs": [],
   "source": []
  },
  {
   "cell_type": "code",
   "execution_count": 250,
   "id": "4f030201",
   "metadata": {},
   "outputs": [],
   "source": [
    "# query = 'Aspiring human resources'\n",
    "\n",
    "# query_w2v = processing(query)\n",
    "\n",
    "# nsamples, nx, ny = query_w2v.shape\n",
    "# query_w2v_reshape = query_w2v.reshape((nsamples,nx*ny))\n",
    "\n",
    "# nsamples, nx, ny = document_word_embeddings.shape\n",
    "# document_word_embeddings_reshape = document_word_embeddings.reshape((nsamples,nx*ny))\n",
    "\n",
    "# cos_sim_w2v = cosine_similarity(query_w2v_reshape, document_word_embeddings_reshape).flatten()\n",
    "\n",
    "# df['w2v_fit'] = cos_sim_w2v"
   ]
  },
  {
   "cell_type": "code",
   "execution_count": 267,
   "id": "49231f3b",
   "metadata": {
    "scrolled": false
   },
   "outputs": [],
   "source": [
    "# top_candidates(n = 10, by = 'w2v_fit', ascending = False, min_con = 0)"
   ]
  },
  {
   "cell_type": "code",
   "execution_count": null,
   "id": "70f237ec",
   "metadata": {},
   "outputs": [],
   "source": []
  },
  {
   "cell_type": "markdown",
   "id": "63a17368",
   "metadata": {},
   "source": [
    "# GloVe - "
   ]
  },
  {
   "cell_type": "code",
   "execution_count": null,
   "id": "1f1682ad",
   "metadata": {},
   "outputs": [],
   "source": []
  },
  {
   "cell_type": "code",
   "execution_count": null,
   "id": "79481e82",
   "metadata": {},
   "outputs": [],
   "source": []
  },
  {
   "cell_type": "markdown",
   "id": "d2d8f9b6",
   "metadata": {},
   "source": [
    "# Fastext - "
   ]
  },
  {
   "cell_type": "code",
   "execution_count": null,
   "id": "f983e92e",
   "metadata": {},
   "outputs": [],
   "source": []
  },
  {
   "cell_type": "markdown",
   "id": "9641fb9d",
   "metadata": {},
   "source": [
    "# BERT - "
   ]
  },
  {
   "cell_type": "code",
   "execution_count": null,
   "id": "f55e5701",
   "metadata": {},
   "outputs": [],
   "source": []
  },
  {
   "cell_type": "code",
   "execution_count": null,
   "id": "0e914fbe",
   "metadata": {},
   "outputs": [],
   "source": []
  },
  {
   "cell_type": "code",
   "execution_count": 243,
   "id": "c8fe8e3f",
   "metadata": {},
   "outputs": [],
   "source": [
    "# Input candidates, query term, location, etc"
   ]
  },
  {
   "cell_type": "code",
   "execution_count": 244,
   "id": "852a1bcf",
   "metadata": {},
   "outputs": [
    {
     "ename": "SyntaxError",
     "evalue": "invalid syntax (Temp/ipykernel_14772/1254448505.py, line 3)",
     "output_type": "error",
     "traceback": [
      "\u001b[1;36m  File \u001b[1;32m\"C:\\Users\\kre8t\\AppData\\Local\\Temp/ipykernel_14772/1254448505.py\"\u001b[1;36m, line \u001b[1;32m3\u001b[0m\n\u001b[1;33m    skill review surrvey - schedule interview - motivated\u001b[0m\n\u001b[1;37m          ^\u001b[0m\n\u001b[1;31mSyntaxError\u001b[0m\u001b[1;31m:\u001b[0m invalid syntax\n"
     ]
    }
   ],
   "source": [
    "# WordtoVec  Same thing but with pretrained word embedding average of word\n",
    "# Try to see who I'm connected with \n",
    "skill review surrvey - schedule interview - motivated "
   ]
  }
 ],
 "metadata": {
  "kernelspec": {
   "display_name": "Python 3 (ipykernel)",
   "language": "python",
   "name": "python3"
  },
  "language_info": {
   "codemirror_mode": {
    "name": "ipython",
    "version": 3
   },
   "file_extension": ".py",
   "mimetype": "text/x-python",
   "name": "python",
   "nbconvert_exporter": "python",
   "pygments_lexer": "ipython3",
   "version": "3.8.12"
  }
 },
 "nbformat": 4,
 "nbformat_minor": 5
}
